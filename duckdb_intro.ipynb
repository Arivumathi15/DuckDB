{
 "cells": [
  {
   "cell_type": "code",
   "execution_count": 24,
   "metadata": {},
   "outputs": [
    {
     "name": "stdout",
     "output_type": "stream",
     "text": [
      "Requirement already satisfied: duckdb in c:\\users\\sridevi\\desktop\\pythonvenv\\my-virtual-env\\lib\\site-packages (1.0.0)\n",
      "Note: you may need to restart the kernel to use updated packages.\n"
     ]
    }
   ],
   "source": [
    "%pip install duckdb --upgrade"
   ]
  },
  {
   "cell_type": "code",
   "execution_count": 25,
   "metadata": {},
   "outputs": [
    {
     "name": "stdout",
     "output_type": "stream",
     "text": [
      "[(42,)]\n"
     ]
    }
   ],
   "source": [
    "import duckdb\n",
    "cursor = duckdb.connect()\n",
    "print(cursor.execute('SELECT 42').fetchall())"
   ]
  },
  {
   "cell_type": "code",
   "execution_count": 2,
   "metadata": {},
   "outputs": [],
   "source": [
    "import duckdb"
   ]
  },
  {
   "cell_type": "code",
   "execution_count": 26,
   "metadata": {},
   "outputs": [],
   "source": [
    "import pandas as pd"
   ]
  },
  {
   "cell_type": "code",
   "execution_count": 3,
   "metadata": {},
   "outputs": [],
   "source": [
    "# connect to an in-memory temporary database\n",
    "conn = duckdb.connect()"
   ]
  },
  {
   "cell_type": "code",
   "execution_count": 4,
   "metadata": {},
   "outputs": [
    {
     "data": {
      "text/plain": [
       "<duckdb.duckdb.DuckDBPyConnection at 0x1440109dbf0>"
      ]
     },
     "execution_count": 4,
     "metadata": {},
     "output_type": "execute_result"
    }
   ],
   "source": [
    "# run arbitrary SQL commands\n",
    "conn.execute(\"CREATE TABLE test_table (i INTEGER, j STRING)\")"
   ]
  },
  {
   "cell_type": "code",
   "execution_count": 8,
   "metadata": {},
   "outputs": [
    {
     "data": {
      "text/plain": [
       "<duckdb.duckdb.DuckDBPyConnection at 0x1440109dbf0>"
      ]
     },
     "execution_count": 8,
     "metadata": {},
     "output_type": "execute_result"
    }
   ],
   "source": [
    "# add some data\n",
    "conn.execute(\"INSERT INTO test_table VALUES (1, 'one')\")"
   ]
  },
  {
   "cell_type": "code",
   "execution_count": 11,
   "metadata": {},
   "outputs": [
    {
     "data": {
      "text/plain": [
       "<duckdb.duckdb.DuckDBPyConnection at 0x1440109dbf0>"
      ]
     },
     "execution_count": 11,
     "metadata": {},
     "output_type": "execute_result"
    }
   ],
   "source": [
    "# we can use placeholders for parameters\n",
    "conn.executemany(\"INSERT INTO test_table VALUES (?, ?)\", [[2, 'two'], [3, 'three']])\n"
   ]
  },
  {
   "cell_type": "code",
   "execution_count": 15,
   "metadata": {},
   "outputs": [
    {
     "data": {
      "text/plain": [
       "<duckdb.duckdb.DuckDBPyConnection at 0x1440109dbf0>"
      ]
     },
     "execution_count": 15,
     "metadata": {},
     "output_type": "execute_result"
    }
   ],
   "source": [
    "# add some data\n",
    "conn.execute(\"INSERT INTO test_table VALUES (4, 'four')\")"
   ]
  },
  {
   "cell_type": "code",
   "execution_count": 16,
   "metadata": {},
   "outputs": [
    {
     "name": "stdout",
     "output_type": "stream",
     "text": [
      "   i      j\n",
      "0  1    one\n",
      "1  2    two\n",
      "2  3  three\n",
      "3  4   four\n"
     ]
    }
   ],
   "source": [
    "# fetch as pandas data frame\n",
    "print(conn.execute(\"SELECT * FROM test_table\").fetch_df())"
   ]
  },
  {
   "cell_type": "code",
   "execution_count": 17,
   "metadata": {},
   "outputs": [
    {
     "name": "stdout",
     "output_type": "stream",
     "text": [
      "{'i': array([1, 2, 3, 4]), 'j': array(['one', 'two', 'three', 'four'], dtype=object)}\n"
     ]
    }
   ],
   "source": [
    "# fetch as list of masked numpy arrays, cleaner when handling NULLs\n",
    "print(conn.execute(\"SELECT * FROM test_table\").fetchnumpy())"
   ]
  },
  {
   "cell_type": "code",
   "execution_count": 27,
   "metadata": {},
   "outputs": [],
   "source": [
    "# Connect to an in-memory DuckDB instance\n",
    "con = duckdb.connect(database=':memory:')"
   ]
  },
  {
   "cell_type": "code",
   "execution_count": 28,
   "metadata": {},
   "outputs": [],
   "source": [
    "# Path to the CSV file\n",
    "csv_file_path = \"C:/Users/Sridevi/Downloads/supermarket_sales.csv\""
   ]
  },
  {
   "cell_type": "code",
   "execution_count": 29,
   "metadata": {},
   "outputs": [],
   "source": [
    "# The read_csv_auto function infers the schema automatically\n",
    "query = f\"\"\"\n",
    "SELECT *\n",
    "FROM read_csv_auto('{csv_file_path}')\n",
    "\"\"\"\n"
   ]
  },
  {
   "cell_type": "code",
   "execution_count": 31,
   "metadata": {},
   "outputs": [],
   "source": [
    "# Execute the query and fetch the results into a Pandas DataFrame\n",
    "df = con.execute(query).fetchdf()"
   ]
  },
  {
   "cell_type": "code",
   "execution_count": 32,
   "metadata": {},
   "outputs": [
    {
     "name": "stdout",
     "output_type": "stream",
     "text": [
      "      Invoice ID Branch       City Customer type  Gender  \\\n",
      "0    750-67-8428      A     Yangon        Member  Female   \n",
      "1    226-31-3081      C  Naypyitaw        Normal  Female   \n",
      "2    631-41-3108      A     Yangon        Normal    Male   \n",
      "3    123-19-1176      A     Yangon        Member    Male   \n",
      "4    373-73-7910      A     Yangon        Normal    Male   \n",
      "..           ...    ...        ...           ...     ...   \n",
      "995  233-67-5758      C  Naypyitaw        Normal    Male   \n",
      "996  303-96-2227      B   Mandalay        Normal  Female   \n",
      "997  727-02-1313      A     Yangon        Member    Male   \n",
      "998  347-56-2442      A     Yangon        Normal    Male   \n",
      "999  849-09-3807      A     Yangon        Member  Female   \n",
      "\n",
      "               Product line  Unit price  Quantity   Tax 5%      Total  \\\n",
      "0         Health and beauty       74.69         7  26.1415   548.9715   \n",
      "1    Electronic accessories       15.28         5   3.8200    80.2200   \n",
      "2        Home and lifestyle       46.33         7  16.2155   340.5255   \n",
      "3         Health and beauty       58.22         8  23.2880   489.0480   \n",
      "4         Sports and travel       86.31         7  30.2085   634.3785   \n",
      "..                      ...         ...       ...      ...        ...   \n",
      "995       Health and beauty       40.35         1   2.0175    42.3675   \n",
      "996      Home and lifestyle       97.38        10  48.6900  1022.4900   \n",
      "997      Food and beverages       31.84         1   1.5920    33.4320   \n",
      "998      Home and lifestyle       65.82         1   3.2910    69.1110   \n",
      "999     Fashion accessories       88.34         7  30.9190   649.2990   \n",
      "\n",
      "          Date   Time      Payment    cogs  gross margin percentage  \\\n",
      "0   2019-01-05  13:08      Ewallet  522.83                 4.761905   \n",
      "1   2019-03-08  10:29         Cash   76.40                 4.761905   \n",
      "2   2019-03-03  13:23  Credit card  324.31                 4.761905   \n",
      "3   2019-01-27  20:33      Ewallet  465.76                 4.761905   \n",
      "4   2019-02-08  10:37      Ewallet  604.17                 4.761905   \n",
      "..         ...    ...          ...     ...                      ...   \n",
      "995 2019-01-29  13:46      Ewallet   40.35                 4.761905   \n",
      "996 2019-03-02  17:16      Ewallet  973.80                 4.761905   \n",
      "997 2019-02-09  13:22         Cash   31.84                 4.761905   \n",
      "998 2019-02-22  15:33         Cash   65.82                 4.761905   \n",
      "999 2019-02-18  13:28         Cash  618.38                 4.761905   \n",
      "\n",
      "     gross income  Rating  \n",
      "0         26.1415     9.1  \n",
      "1          3.8200     9.6  \n",
      "2         16.2155     7.4  \n",
      "3         23.2880     8.4  \n",
      "4         30.2085     5.3  \n",
      "..            ...     ...  \n",
      "995        2.0175     6.2  \n",
      "996       48.6900     4.4  \n",
      "997        1.5920     7.7  \n",
      "998        3.2910     4.1  \n",
      "999       30.9190     6.6  \n",
      "\n",
      "[1000 rows x 17 columns]\n"
     ]
    }
   ],
   "source": [
    "print(df)"
   ]
  },
  {
   "cell_type": "code",
   "execution_count": 33,
   "metadata": {},
   "outputs": [],
   "source": [
    "query_1 = f\"\"\"\n",
    "SELECT *\n",
    "FROM read_csv_auto('{csv_file_path}')\n",
    "ORDER BY Total DESC\n",
    "LIMIT 1\n",
    "\"\"\""
   ]
  },
  {
   "cell_type": "code",
   "execution_count": 34,
   "metadata": {},
   "outputs": [],
   "source": [
    "df_1 = con.execute(query_1).fetchdf()"
   ]
  },
  {
   "cell_type": "code",
   "execution_count": 35,
   "metadata": {},
   "outputs": [
    {
     "name": "stdout",
     "output_type": "stream",
     "text": [
      "    Invoice ID Branch       City Customer type  Gender         Product line  \\\n",
      "0  860-79-0874      C  Naypyitaw        Member  Female  Fashion accessories   \n",
      "\n",
      "   Unit price  Quantity  Tax 5%    Total       Date   Time      Payment  \\\n",
      "0        99.3        10   49.65  1042.65 2019-02-15  14:53  Credit card   \n",
      "\n",
      "    cogs  gross margin percentage  gross income  Rating  \n",
      "0  993.0                 4.761905         49.65     6.6  \n"
     ]
    }
   ],
   "source": [
    "print(df_1)"
   ]
  },
  {
   "cell_type": "code",
   "execution_count": 36,
   "metadata": {},
   "outputs": [],
   "source": [
    "# Connect to an on-disk DuckDB instance (replace 'your_database.db' with your desired database file path)\n",
    "con = duckdb.connect(database='first_database.db')"
   ]
  },
  {
   "cell_type": "code",
   "execution_count": 37,
   "metadata": {},
   "outputs": [
    {
     "data": {
      "text/plain": [
       "<duckdb.duckdb.DuckDBPyConnection at 0x14411cb95f0>"
      ]
     },
     "execution_count": 37,
     "metadata": {},
     "output_type": "execute_result"
    }
   ],
   "source": [
    "con"
   ]
  },
  {
   "cell_type": "code",
   "execution_count": 38,
   "metadata": {},
   "outputs": [
    {
     "data": {
      "text/plain": [
       "<duckdb.duckdb.DuckDBPyConnection at 0x14411cb95f0>"
      ]
     },
     "execution_count": 38,
     "metadata": {},
     "output_type": "execute_result"
    }
   ],
   "source": [
    "con.execute(f\"\"\"\n",
    "CREATE TABLE IF NOT EXISTS sales AS\n",
    "SELECT *\n",
    "FROM read_csv_auto('{csv_file_path}')\n",
    "\"\"\")"
   ]
  },
  {
   "cell_type": "code",
   "execution_count": 39,
   "metadata": {},
   "outputs": [],
   "source": [
    "# Verify the table contents by querying the first few rows\n",
    "df = con.execute(\"SELECT * FROM sales LIMIT 5\").fetchdf()"
   ]
  },
  {
   "cell_type": "code",
   "execution_count": 40,
   "metadata": {},
   "outputs": [
    {
     "data": {
      "text/html": [
       "<div>\n",
       "<style scoped>\n",
       "    .dataframe tbody tr th:only-of-type {\n",
       "        vertical-align: middle;\n",
       "    }\n",
       "\n",
       "    .dataframe tbody tr th {\n",
       "        vertical-align: top;\n",
       "    }\n",
       "\n",
       "    .dataframe thead th {\n",
       "        text-align: right;\n",
       "    }\n",
       "</style>\n",
       "<table border=\"1\" class=\"dataframe\">\n",
       "  <thead>\n",
       "    <tr style=\"text-align: right;\">\n",
       "      <th></th>\n",
       "      <th>Invoice ID</th>\n",
       "      <th>Branch</th>\n",
       "      <th>City</th>\n",
       "      <th>Customer type</th>\n",
       "      <th>Gender</th>\n",
       "      <th>Product line</th>\n",
       "      <th>Unit price</th>\n",
       "      <th>Quantity</th>\n",
       "      <th>Tax 5%</th>\n",
       "      <th>Total</th>\n",
       "      <th>Date</th>\n",
       "      <th>Time</th>\n",
       "      <th>Payment</th>\n",
       "      <th>cogs</th>\n",
       "      <th>gross margin percentage</th>\n",
       "      <th>gross income</th>\n",
       "      <th>Rating</th>\n",
       "    </tr>\n",
       "  </thead>\n",
       "  <tbody>\n",
       "    <tr>\n",
       "      <th>0</th>\n",
       "      <td>750-67-8428</td>\n",
       "      <td>A</td>\n",
       "      <td>Yangon</td>\n",
       "      <td>Member</td>\n",
       "      <td>Female</td>\n",
       "      <td>Health and beauty</td>\n",
       "      <td>74.69</td>\n",
       "      <td>7</td>\n",
       "      <td>26.1415</td>\n",
       "      <td>548.9715</td>\n",
       "      <td>2019-01-05</td>\n",
       "      <td>13:08</td>\n",
       "      <td>Ewallet</td>\n",
       "      <td>522.83</td>\n",
       "      <td>4.761905</td>\n",
       "      <td>26.1415</td>\n",
       "      <td>9.1</td>\n",
       "    </tr>\n",
       "    <tr>\n",
       "      <th>1</th>\n",
       "      <td>226-31-3081</td>\n",
       "      <td>C</td>\n",
       "      <td>Naypyitaw</td>\n",
       "      <td>Normal</td>\n",
       "      <td>Female</td>\n",
       "      <td>Electronic accessories</td>\n",
       "      <td>15.28</td>\n",
       "      <td>5</td>\n",
       "      <td>3.8200</td>\n",
       "      <td>80.2200</td>\n",
       "      <td>2019-03-08</td>\n",
       "      <td>10:29</td>\n",
       "      <td>Cash</td>\n",
       "      <td>76.40</td>\n",
       "      <td>4.761905</td>\n",
       "      <td>3.8200</td>\n",
       "      <td>9.6</td>\n",
       "    </tr>\n",
       "    <tr>\n",
       "      <th>2</th>\n",
       "      <td>631-41-3108</td>\n",
       "      <td>A</td>\n",
       "      <td>Yangon</td>\n",
       "      <td>Normal</td>\n",
       "      <td>Male</td>\n",
       "      <td>Home and lifestyle</td>\n",
       "      <td>46.33</td>\n",
       "      <td>7</td>\n",
       "      <td>16.2155</td>\n",
       "      <td>340.5255</td>\n",
       "      <td>2019-03-03</td>\n",
       "      <td>13:23</td>\n",
       "      <td>Credit card</td>\n",
       "      <td>324.31</td>\n",
       "      <td>4.761905</td>\n",
       "      <td>16.2155</td>\n",
       "      <td>7.4</td>\n",
       "    </tr>\n",
       "    <tr>\n",
       "      <th>3</th>\n",
       "      <td>123-19-1176</td>\n",
       "      <td>A</td>\n",
       "      <td>Yangon</td>\n",
       "      <td>Member</td>\n",
       "      <td>Male</td>\n",
       "      <td>Health and beauty</td>\n",
       "      <td>58.22</td>\n",
       "      <td>8</td>\n",
       "      <td>23.2880</td>\n",
       "      <td>489.0480</td>\n",
       "      <td>2019-01-27</td>\n",
       "      <td>20:33</td>\n",
       "      <td>Ewallet</td>\n",
       "      <td>465.76</td>\n",
       "      <td>4.761905</td>\n",
       "      <td>23.2880</td>\n",
       "      <td>8.4</td>\n",
       "    </tr>\n",
       "    <tr>\n",
       "      <th>4</th>\n",
       "      <td>373-73-7910</td>\n",
       "      <td>A</td>\n",
       "      <td>Yangon</td>\n",
       "      <td>Normal</td>\n",
       "      <td>Male</td>\n",
       "      <td>Sports and travel</td>\n",
       "      <td>86.31</td>\n",
       "      <td>7</td>\n",
       "      <td>30.2085</td>\n",
       "      <td>634.3785</td>\n",
       "      <td>2019-02-08</td>\n",
       "      <td>10:37</td>\n",
       "      <td>Ewallet</td>\n",
       "      <td>604.17</td>\n",
       "      <td>4.761905</td>\n",
       "      <td>30.2085</td>\n",
       "      <td>5.3</td>\n",
       "    </tr>\n",
       "  </tbody>\n",
       "</table>\n",
       "</div>"
      ],
      "text/plain": [
       "    Invoice ID Branch       City Customer type  Gender  \\\n",
       "0  750-67-8428      A     Yangon        Member  Female   \n",
       "1  226-31-3081      C  Naypyitaw        Normal  Female   \n",
       "2  631-41-3108      A     Yangon        Normal    Male   \n",
       "3  123-19-1176      A     Yangon        Member    Male   \n",
       "4  373-73-7910      A     Yangon        Normal    Male   \n",
       "\n",
       "             Product line  Unit price  Quantity   Tax 5%     Total       Date  \\\n",
       "0       Health and beauty       74.69         7  26.1415  548.9715 2019-01-05   \n",
       "1  Electronic accessories       15.28         5   3.8200   80.2200 2019-03-08   \n",
       "2      Home and lifestyle       46.33         7  16.2155  340.5255 2019-03-03   \n",
       "3       Health and beauty       58.22         8  23.2880  489.0480 2019-01-27   \n",
       "4       Sports and travel       86.31         7  30.2085  634.3785 2019-02-08   \n",
       "\n",
       "    Time      Payment    cogs  gross margin percentage  gross income  Rating  \n",
       "0  13:08      Ewallet  522.83                 4.761905       26.1415     9.1  \n",
       "1  10:29         Cash   76.40                 4.761905        3.8200     9.6  \n",
       "2  13:23  Credit card  324.31                 4.761905       16.2155     7.4  \n",
       "3  20:33      Ewallet  465.76                 4.761905       23.2880     8.4  \n",
       "4  10:37      Ewallet  604.17                 4.761905       30.2085     5.3  "
      ]
     },
     "execution_count": 40,
     "metadata": {},
     "output_type": "execute_result"
    }
   ],
   "source": [
    "df"
   ]
  },
  {
   "cell_type": "code",
   "execution_count": null,
   "metadata": {},
   "outputs": [],
   "source": []
  },
  {
   "cell_type": "code",
   "execution_count": 48,
   "metadata": {},
   "outputs": [
    {
     "data": {
      "text/html": [
       "<div>\n",
       "<style scoped>\n",
       "    .dataframe tbody tr th:only-of-type {\n",
       "        vertical-align: middle;\n",
       "    }\n",
       "\n",
       "    .dataframe tbody tr th {\n",
       "        vertical-align: top;\n",
       "    }\n",
       "\n",
       "    .dataframe thead th {\n",
       "        text-align: right;\n",
       "    }\n",
       "</style>\n",
       "<table border=\"1\" class=\"dataframe\">\n",
       "  <thead>\n",
       "    <tr style=\"text-align: right;\">\n",
       "      <th></th>\n",
       "      <th>City</th>\n",
       "      <th>Customer type</th>\n",
       "      <th>Total</th>\n",
       "    </tr>\n",
       "  </thead>\n",
       "  <tbody>\n",
       "    <tr>\n",
       "      <th>0</th>\n",
       "      <td>Naypyitaw</td>\n",
       "      <td>Member</td>\n",
       "      <td>1042.65</td>\n",
       "    </tr>\n",
       "  </tbody>\n",
       "</table>\n",
       "</div>"
      ],
      "text/plain": [
       "        City Customer type    Total\n",
       "0  Naypyitaw        Member  1042.65"
      ]
     },
     "execution_count": 48,
     "metadata": {},
     "output_type": "execute_result"
    }
   ],
   "source": [
    "con.execute(\"\"\"\n",
    "SELECT \"City\", \"Customer type\", \"Total\"\n",
    "FROM sales\n",
    "ORDER BY \"Total\" DESC\n",
    "LIMIT 1\n",
    "\"\"\").fetchdf()"
   ]
  },
  {
   "cell_type": "code",
   "execution_count": 49,
   "metadata": {},
   "outputs": [
    {
     "data": {
      "text/plain": [
       "<duckdb.duckdb.DuckDBPyConnection at 0x14411cb95f0>"
      ]
     },
     "execution_count": 49,
     "metadata": {},
     "output_type": "execute_result"
    }
   ],
   "source": [
    "con.execute(\"\"\"\n",
    "CREATE TABLE customer_info AS\n",
    "SELECT \"Branch\", \"City\", \"Customer type\", \"Gender\", \"Product line\"\n",
    "FROM sales\n",
    "\"\"\")"
   ]
  },
  {
   "cell_type": "code",
   "execution_count": 50,
   "metadata": {},
   "outputs": [
    {
     "data": {
      "text/html": [
       "<div>\n",
       "<style scoped>\n",
       "    .dataframe tbody tr th:only-of-type {\n",
       "        vertical-align: middle;\n",
       "    }\n",
       "\n",
       "    .dataframe tbody tr th {\n",
       "        vertical-align: top;\n",
       "    }\n",
       "\n",
       "    .dataframe thead th {\n",
       "        text-align: right;\n",
       "    }\n",
       "</style>\n",
       "<table border=\"1\" class=\"dataframe\">\n",
       "  <thead>\n",
       "    <tr style=\"text-align: right;\">\n",
       "      <th></th>\n",
       "      <th>Branch</th>\n",
       "      <th>City</th>\n",
       "      <th>Customer type</th>\n",
       "      <th>Gender</th>\n",
       "      <th>Product line</th>\n",
       "    </tr>\n",
       "  </thead>\n",
       "  <tbody>\n",
       "    <tr>\n",
       "      <th>0</th>\n",
       "      <td>A</td>\n",
       "      <td>Yangon</td>\n",
       "      <td>Member</td>\n",
       "      <td>Female</td>\n",
       "      <td>Health and beauty</td>\n",
       "    </tr>\n",
       "    <tr>\n",
       "      <th>1</th>\n",
       "      <td>C</td>\n",
       "      <td>Naypyitaw</td>\n",
       "      <td>Normal</td>\n",
       "      <td>Female</td>\n",
       "      <td>Electronic accessories</td>\n",
       "    </tr>\n",
       "    <tr>\n",
       "      <th>2</th>\n",
       "      <td>A</td>\n",
       "      <td>Yangon</td>\n",
       "      <td>Normal</td>\n",
       "      <td>Male</td>\n",
       "      <td>Home and lifestyle</td>\n",
       "    </tr>\n",
       "    <tr>\n",
       "      <th>3</th>\n",
       "      <td>A</td>\n",
       "      <td>Yangon</td>\n",
       "      <td>Member</td>\n",
       "      <td>Male</td>\n",
       "      <td>Health and beauty</td>\n",
       "    </tr>\n",
       "    <tr>\n",
       "      <th>4</th>\n",
       "      <td>A</td>\n",
       "      <td>Yangon</td>\n",
       "      <td>Normal</td>\n",
       "      <td>Male</td>\n",
       "      <td>Sports and travel</td>\n",
       "    </tr>\n",
       "    <tr>\n",
       "      <th>...</th>\n",
       "      <td>...</td>\n",
       "      <td>...</td>\n",
       "      <td>...</td>\n",
       "      <td>...</td>\n",
       "      <td>...</td>\n",
       "    </tr>\n",
       "    <tr>\n",
       "      <th>995</th>\n",
       "      <td>C</td>\n",
       "      <td>Naypyitaw</td>\n",
       "      <td>Normal</td>\n",
       "      <td>Male</td>\n",
       "      <td>Health and beauty</td>\n",
       "    </tr>\n",
       "    <tr>\n",
       "      <th>996</th>\n",
       "      <td>B</td>\n",
       "      <td>Mandalay</td>\n",
       "      <td>Normal</td>\n",
       "      <td>Female</td>\n",
       "      <td>Home and lifestyle</td>\n",
       "    </tr>\n",
       "    <tr>\n",
       "      <th>997</th>\n",
       "      <td>A</td>\n",
       "      <td>Yangon</td>\n",
       "      <td>Member</td>\n",
       "      <td>Male</td>\n",
       "      <td>Food and beverages</td>\n",
       "    </tr>\n",
       "    <tr>\n",
       "      <th>998</th>\n",
       "      <td>A</td>\n",
       "      <td>Yangon</td>\n",
       "      <td>Normal</td>\n",
       "      <td>Male</td>\n",
       "      <td>Home and lifestyle</td>\n",
       "    </tr>\n",
       "    <tr>\n",
       "      <th>999</th>\n",
       "      <td>A</td>\n",
       "      <td>Yangon</td>\n",
       "      <td>Member</td>\n",
       "      <td>Female</td>\n",
       "      <td>Fashion accessories</td>\n",
       "    </tr>\n",
       "  </tbody>\n",
       "</table>\n",
       "<p>1000 rows × 5 columns</p>\n",
       "</div>"
      ],
      "text/plain": [
       "    Branch       City Customer type  Gender            Product line\n",
       "0        A     Yangon        Member  Female       Health and beauty\n",
       "1        C  Naypyitaw        Normal  Female  Electronic accessories\n",
       "2        A     Yangon        Normal    Male      Home and lifestyle\n",
       "3        A     Yangon        Member    Male       Health and beauty\n",
       "4        A     Yangon        Normal    Male       Sports and travel\n",
       "..     ...        ...           ...     ...                     ...\n",
       "995      C  Naypyitaw        Normal    Male       Health and beauty\n",
       "996      B   Mandalay        Normal  Female      Home and lifestyle\n",
       "997      A     Yangon        Member    Male      Food and beverages\n",
       "998      A     Yangon        Normal    Male      Home and lifestyle\n",
       "999      A     Yangon        Member  Female     Fashion accessories\n",
       "\n",
       "[1000 rows x 5 columns]"
      ]
     },
     "execution_count": 50,
     "metadata": {},
     "output_type": "execute_result"
    }
   ],
   "source": [
    "con.execute(\"select * from customer_info\").fetchdf()"
   ]
  },
  {
   "cell_type": "code",
   "execution_count": 51,
   "metadata": {},
   "outputs": [
    {
     "data": {
      "text/plain": [
       "<duckdb.duckdb.DuckDBPyConnection at 0x14411cb95f0>"
      ]
     },
     "execution_count": 51,
     "metadata": {},
     "output_type": "execute_result"
    }
   ],
   "source": [
    "# Create views for the separate data subsets\n",
    "con.execute(\"\"\"\n",
    "CREATE VIEW info_view AS\n",
    "SELECT \"City\", \"Customer type\", \"Gender\"\n",
    "FROM customer_info\n",
    "\"\"\")"
   ]
  },
  {
   "cell_type": "code",
   "execution_count": 52,
   "metadata": {},
   "outputs": [
    {
     "data": {
      "text/plain": [
       "<duckdb.duckdb.DuckDBPyConnection at 0x14411cb95f0>"
      ]
     },
     "execution_count": 52,
     "metadata": {},
     "output_type": "execute_result"
    }
   ],
   "source": [
    "con.execute(\"\"\"\n",
    "CREATE VIEW general_view AS\n",
    "SELECT \"Branch\", \"Product line\"\n",
    "FROM customer_info\n",
    "\"\"\")"
   ]
  },
  {
   "cell_type": "code",
   "execution_count": 53,
   "metadata": {},
   "outputs": [],
   "source": [
    "# Fetch the data from the views\n",
    "info_df = con.execute(\"SELECT * FROM info_view\").fetchdf()\n",
    "general_df = con.execute(\"SELECT * FROM general_view\").fetchdf()\n"
   ]
  },
  {
   "cell_type": "code",
   "execution_count": 56,
   "metadata": {},
   "outputs": [],
   "source": [
    "# Convert the dataframes to dictionaries\n",
    "info_dict = info_df.to_dict(orient='list')\n",
    "general_dict = general_df.to_dict(orient='list')"
   ]
  },
  {
   "cell_type": "code",
   "execution_count": 57,
   "metadata": {},
   "outputs": [],
   "source": [
    "# Create the final dictionary with the required structure\n",
    "final_dict = {\n",
    "    \"info\": info_dict,\n",
    "    \"general\": general_dict\n",
    "}"
   ]
  },
  {
   "cell_type": "code",
   "execution_count": 58,
   "metadata": {},
   "outputs": [
    {
     "name": "stdout",
     "output_type": "stream",
     "text": [
      "{'info': {'City': ['Yangon', 'Naypyitaw', 'Yangon', 'Yangon', 'Yangon', 'Naypyitaw', 'Yangon', 'Naypyitaw', 'Yangon', 'Mandalay', 'Mandalay', 'Mandalay', 'Yangon', 'Yangon', 'Yangon', 'Mandalay', 'Yangon', 'Yangon', 'Yangon', 'Mandalay', 'Naypyitaw', 'Mandalay', 'Mandalay', 'Yangon', 'Yangon', 'Yangon', 'Mandalay', 'Yangon', 'Mandalay', 'Yangon', 'Mandalay', 'Mandalay', 'Mandalay', 'Yangon', 'Naypyitaw', 'Naypyitaw', 'Yangon', 'Yangon', 'Naypyitaw', 'Mandalay', 'Mandalay', 'Naypyitaw', 'Mandalay', 'Naypyitaw', 'Naypyitaw', 'Mandalay', 'Mandalay', 'Mandalay', 'Mandalay', 'Naypyitaw', 'Naypyitaw', 'Yangon', 'Mandalay', 'Naypyitaw', 'Mandalay', 'Naypyitaw', 'Yangon', 'Yangon', 'Yangon', 'Naypyitaw', 'Naypyitaw', 'Naypyitaw', 'Mandalay', 'Yangon', 'Mandalay', 'Yangon', 'Naypyitaw', 'Mandalay', 'Yangon', 'Yangon', 'Naypyitaw', 'Naypyitaw', 'Mandalay', 'Naypyitaw', 'Yangon', 'Naypyitaw', 'Naypyitaw', 'Yangon', 'Naypyitaw', 'Naypyitaw', 'Naypyitaw', 'Mandalay', 'Naypyitaw', 'Naypyitaw', 'Naypyitaw', 'Naypyitaw', 'Naypyitaw', 'Yangon', 'Yangon', 'Mandalay', 'Naypyitaw', 'Naypyitaw', 'Yangon', 'Mandalay', 'Naypyitaw', 'Yangon', 'Mandalay', 'Naypyitaw', 'Yangon', 'Mandalay', 'Naypyitaw', 'Naypyitaw', 'Naypyitaw', 'Yangon', 'Mandalay', 'Yangon', 'Naypyitaw', 'Yangon', 'Naypyitaw', 'Naypyitaw', 'Mandalay', 'Naypyitaw', 'Mandalay', 'Yangon', 'Naypyitaw', 'Naypyitaw', 'Mandalay', 'Mandalay', 'Yangon', 'Mandalay', 'Yangon', 'Naypyitaw', 'Mandalay', 'Naypyitaw', 'Mandalay', 'Yangon', 'Yangon', 'Naypyitaw', 'Naypyitaw', 'Mandalay', 'Mandalay', 'Yangon', 'Mandalay', 'Mandalay', 'Naypyitaw', 'Naypyitaw', 'Yangon', 'Yangon', 'Mandalay', 'Yangon', 'Naypyitaw', 'Naypyitaw', 'Naypyitaw', 'Naypyitaw', 'Yangon', 'Naypyitaw', 'Yangon', 'Naypyitaw', 'Mandalay', 'Yangon', 'Mandalay', 'Naypyitaw', 'Yangon', 'Naypyitaw', 'Naypyitaw', 'Yangon', 'Mandalay', 'Mandalay', 'Mandalay', 'Mandalay', 'Naypyitaw', 'Yangon', 'Yangon', 'Naypyitaw', 'Mandalay', 'Mandalay', 'Naypyitaw', 'Yangon', 'Yangon', 'Yangon', 'Yangon', 'Mandalay', 'Naypyitaw', 'Mandalay', 'Mandalay', 'Yangon', 'Yangon', 'Naypyitaw', 'Yangon', 'Naypyitaw', 'Naypyitaw', 'Naypyitaw', 'Yangon', 'Naypyitaw', 'Yangon', 'Mandalay', 'Mandalay', 'Mandalay', 'Yangon', 'Naypyitaw', 'Mandalay', 'Mandalay', 'Naypyitaw', 'Mandalay', 'Yangon', 'Naypyitaw', 'Naypyitaw', 'Yangon', 'Naypyitaw', 'Naypyitaw', 'Naypyitaw', 'Mandalay', 'Naypyitaw', 'Mandalay', 'Mandalay', 'Yangon', 'Naypyitaw', 'Naypyitaw', 'Mandalay', 'Mandalay', 'Yangon', 'Naypyitaw', 'Mandalay', 'Mandalay', 'Mandalay', 'Yangon', 'Mandalay', 'Yangon', 'Mandalay', 'Mandalay', 'Mandalay', 'Mandalay', 'Naypyitaw', 'Naypyitaw', 'Yangon', 'Naypyitaw', 'Mandalay', 'Naypyitaw', 'Mandalay', 'Yangon', 'Mandalay', 'Mandalay', 'Mandalay', 'Mandalay', 'Yangon', 'Yangon', 'Naypyitaw', 'Naypyitaw', 'Mandalay', 'Yangon', 'Yangon', 'Yangon', 'Naypyitaw', 'Yangon', 'Mandalay', 'Yangon', 'Mandalay', 'Yangon', 'Yangon', 'Mandalay', 'Mandalay', 'Naypyitaw', 'Naypyitaw', 'Yangon', 'Yangon', 'Mandalay', 'Yangon', 'Yangon', 'Yangon', 'Naypyitaw', 'Yangon', 'Naypyitaw', 'Mandalay', 'Yangon', 'Mandalay', 'Yangon', 'Naypyitaw', 'Mandalay', 'Yangon', 'Yangon', 'Mandalay', 'Naypyitaw', 'Yangon', 'Yangon', 'Mandalay', 'Mandalay', 'Naypyitaw', 'Naypyitaw', 'Naypyitaw', 'Yangon', 'Yangon', 'Naypyitaw', 'Yangon', 'Yangon', 'Yangon', 'Mandalay', 'Naypyitaw', 'Naypyitaw', 'Mandalay', 'Yangon', 'Mandalay', 'Naypyitaw', 'Yangon', 'Yangon', 'Mandalay', 'Naypyitaw', 'Naypyitaw', 'Yangon', 'Yangon', 'Naypyitaw', 'Naypyitaw', 'Mandalay', 'Naypyitaw', 'Yangon', 'Mandalay', 'Yangon', 'Yangon', 'Yangon', 'Yangon', 'Yangon', 'Mandalay', 'Naypyitaw', 'Yangon', 'Yangon', 'Naypyitaw', 'Naypyitaw', 'Naypyitaw', 'Naypyitaw', 'Naypyitaw', 'Naypyitaw', 'Naypyitaw', 'Naypyitaw', 'Yangon', 'Yangon', 'Yangon', 'Mandalay', 'Yangon', 'Naypyitaw', 'Mandalay', 'Yangon', 'Mandalay', 'Yangon', 'Yangon', 'Yangon', 'Naypyitaw', 'Yangon', 'Yangon', 'Mandalay', 'Naypyitaw', 'Mandalay', 'Mandalay', 'Mandalay', 'Mandalay', 'Naypyitaw', 'Yangon', 'Yangon', 'Yangon', 'Naypyitaw', 'Yangon', 'Mandalay', 'Naypyitaw', 'Yangon', 'Mandalay', 'Mandalay', 'Naypyitaw', 'Mandalay', 'Naypyitaw', 'Naypyitaw', 'Mandalay', 'Mandalay', 'Yangon', 'Naypyitaw', 'Naypyitaw', 'Yangon', 'Naypyitaw', 'Naypyitaw', 'Naypyitaw', 'Yangon', 'Naypyitaw', 'Yangon', 'Mandalay', 'Mandalay', 'Naypyitaw', 'Naypyitaw', 'Yangon', 'Yangon', 'Mandalay', 'Naypyitaw', 'Naypyitaw', 'Mandalay', 'Yangon', 'Naypyitaw', 'Mandalay', 'Naypyitaw', 'Yangon', 'Mandalay', 'Naypyitaw', 'Yangon', 'Naypyitaw', 'Mandalay', 'Naypyitaw', 'Mandalay', 'Yangon', 'Yangon', 'Yangon', 'Yangon', 'Yangon', 'Mandalay', 'Mandalay', 'Mandalay', 'Naypyitaw', 'Naypyitaw', 'Naypyitaw', 'Mandalay', 'Naypyitaw', 'Yangon', 'Yangon', 'Mandalay', 'Yangon', 'Naypyitaw', 'Mandalay', 'Mandalay', 'Yangon', 'Yangon', 'Yangon', 'Mandalay', 'Naypyitaw', 'Naypyitaw', 'Mandalay', 'Yangon', 'Naypyitaw', 'Naypyitaw', 'Naypyitaw', 'Mandalay', 'Naypyitaw', 'Mandalay', 'Yangon', 'Mandalay', 'Mandalay', 'Yangon', 'Mandalay', 'Naypyitaw', 'Yangon', 'Mandalay', 'Mandalay', 'Naypyitaw', 'Naypyitaw', 'Yangon', 'Naypyitaw', 'Naypyitaw', 'Naypyitaw', 'Mandalay', 'Yangon', 'Naypyitaw', 'Yangon', 'Mandalay', 'Naypyitaw', 'Naypyitaw', 'Mandalay', 'Mandalay', 'Mandalay', 'Mandalay', 'Yangon', 'Yangon', 'Yangon', 'Mandalay', 'Mandalay', 'Mandalay', 'Naypyitaw', 'Naypyitaw', 'Naypyitaw', 'Mandalay', 'Naypyitaw', 'Naypyitaw', 'Yangon', 'Naypyitaw', 'Naypyitaw', 'Mandalay', 'Naypyitaw', 'Naypyitaw', 'Naypyitaw', 'Yangon', 'Yangon', 'Mandalay', 'Yangon', 'Yangon', 'Yangon', 'Naypyitaw', 'Mandalay', 'Yangon', 'Naypyitaw', 'Naypyitaw', 'Yangon', 'Mandalay', 'Naypyitaw', 'Mandalay', 'Mandalay', 'Yangon', 'Naypyitaw', 'Mandalay', 'Mandalay', 'Yangon', 'Mandalay', 'Naypyitaw', 'Mandalay', 'Mandalay', 'Naypyitaw', 'Naypyitaw', 'Mandalay', 'Yangon', 'Mandalay', 'Naypyitaw', 'Naypyitaw', 'Mandalay', 'Mandalay', 'Yangon', 'Mandalay', 'Mandalay', 'Mandalay', 'Naypyitaw', 'Mandalay', 'Yangon', 'Yangon', 'Yangon', 'Naypyitaw', 'Naypyitaw', 'Mandalay', 'Naypyitaw', 'Yangon', 'Naypyitaw', 'Mandalay', 'Naypyitaw', 'Yangon', 'Naypyitaw', 'Yangon', 'Yangon', 'Mandalay', 'Mandalay', 'Mandalay', 'Yangon', 'Yangon', 'Yangon', 'Mandalay', 'Naypyitaw', 'Yangon', 'Naypyitaw', 'Mandalay', 'Yangon', 'Yangon', 'Naypyitaw', 'Yangon', 'Naypyitaw', 'Mandalay', 'Naypyitaw', 'Mandalay', 'Mandalay', 'Yangon', 'Yangon', 'Mandalay', 'Yangon', 'Mandalay', 'Mandalay', 'Mandalay', 'Naypyitaw', 'Yangon', 'Mandalay', 'Mandalay', 'Naypyitaw', 'Yangon', 'Yangon', 'Mandalay', 'Naypyitaw', 'Mandalay', 'Yangon', 'Mandalay', 'Yangon', 'Naypyitaw', 'Yangon', 'Mandalay', 'Naypyitaw', 'Mandalay', 'Mandalay', 'Yangon', 'Mandalay', 'Yangon', 'Mandalay', 'Mandalay', 'Naypyitaw', 'Yangon', 'Mandalay', 'Naypyitaw', 'Yangon', 'Naypyitaw', 'Mandalay', 'Mandalay', 'Yangon', 'Yangon', 'Yangon', 'Naypyitaw', 'Yangon', 'Naypyitaw', 'Naypyitaw', 'Yangon', 'Yangon', 'Mandalay', 'Mandalay', 'Yangon', 'Naypyitaw', 'Naypyitaw', 'Yangon', 'Naypyitaw', 'Naypyitaw', 'Naypyitaw', 'Mandalay', 'Naypyitaw', 'Mandalay', 'Yangon', 'Naypyitaw', 'Yangon', 'Mandalay', 'Yangon', 'Naypyitaw', 'Mandalay', 'Naypyitaw', 'Yangon', 'Yangon', 'Mandalay', 'Naypyitaw', 'Yangon', 'Naypyitaw', 'Yangon', 'Yangon', 'Mandalay', 'Mandalay', 'Mandalay', 'Mandalay', 'Yangon', 'Mandalay', 'Yangon', 'Yangon', 'Yangon', 'Yangon', 'Yangon', 'Mandalay', 'Mandalay', 'Mandalay', 'Yangon', 'Naypyitaw', 'Mandalay', 'Mandalay', 'Mandalay', 'Naypyitaw', 'Mandalay', 'Naypyitaw', 'Naypyitaw', 'Yangon', 'Naypyitaw', 'Mandalay', 'Naypyitaw', 'Naypyitaw', 'Mandalay', 'Mandalay', 'Yangon', 'Mandalay', 'Mandalay', 'Yangon', 'Naypyitaw', 'Yangon', 'Yangon', 'Yangon', 'Mandalay', 'Naypyitaw', 'Mandalay', 'Naypyitaw', 'Naypyitaw', 'Yangon', 'Mandalay', 'Mandalay', 'Naypyitaw', 'Mandalay', 'Yangon', 'Mandalay', 'Mandalay', 'Naypyitaw', 'Yangon', 'Mandalay', 'Mandalay', 'Yangon', 'Naypyitaw', 'Yangon', 'Mandalay', 'Mandalay', 'Naypyitaw', 'Yangon', 'Mandalay', 'Mandalay', 'Mandalay', 'Yangon', 'Naypyitaw', 'Yangon', 'Naypyitaw', 'Naypyitaw', 'Yangon', 'Naypyitaw', 'Naypyitaw', 'Yangon', 'Yangon', 'Mandalay', 'Yangon', 'Naypyitaw', 'Naypyitaw', 'Mandalay', 'Mandalay', 'Mandalay', 'Mandalay', 'Mandalay', 'Mandalay', 'Naypyitaw', 'Naypyitaw', 'Yangon', 'Yangon', 'Naypyitaw', 'Naypyitaw', 'Naypyitaw', 'Naypyitaw', 'Yangon', 'Yangon', 'Yangon', 'Yangon', 'Mandalay', 'Mandalay', 'Naypyitaw', 'Mandalay', 'Naypyitaw', 'Mandalay', 'Naypyitaw', 'Naypyitaw', 'Mandalay', 'Naypyitaw', 'Mandalay', 'Yangon', 'Yangon', 'Yangon', 'Mandalay', 'Mandalay', 'Naypyitaw', 'Naypyitaw', 'Naypyitaw', 'Mandalay', 'Yangon', 'Naypyitaw', 'Naypyitaw', 'Yangon', 'Yangon', 'Naypyitaw', 'Naypyitaw', 'Mandalay', 'Naypyitaw', 'Mandalay', 'Naypyitaw', 'Mandalay', 'Yangon', 'Yangon', 'Mandalay', 'Naypyitaw', 'Yangon', 'Mandalay', 'Yangon', 'Yangon', 'Yangon', 'Mandalay', 'Mandalay', 'Yangon', 'Yangon', 'Yangon', 'Mandalay', 'Naypyitaw', 'Mandalay', 'Mandalay', 'Yangon', 'Mandalay', 'Naypyitaw', 'Naypyitaw', 'Naypyitaw', 'Naypyitaw', 'Mandalay', 'Naypyitaw', 'Mandalay', 'Naypyitaw', 'Mandalay', 'Naypyitaw', 'Yangon', 'Yangon', 'Naypyitaw', 'Naypyitaw', 'Yangon', 'Naypyitaw', 'Naypyitaw', 'Naypyitaw', 'Yangon', 'Yangon', 'Naypyitaw', 'Mandalay', 'Yangon', 'Yangon', 'Mandalay', 'Naypyitaw', 'Yangon', 'Mandalay', 'Naypyitaw', 'Mandalay', 'Naypyitaw', 'Naypyitaw', 'Yangon', 'Mandalay', 'Yangon', 'Yangon', 'Yangon', 'Mandalay', 'Naypyitaw', 'Mandalay', 'Yangon', 'Naypyitaw', 'Yangon', 'Yangon', 'Mandalay', 'Naypyitaw', 'Yangon', 'Mandalay', 'Mandalay', 'Mandalay', 'Yangon', 'Naypyitaw', 'Yangon', 'Mandalay', 'Yangon', 'Mandalay', 'Yangon', 'Naypyitaw', 'Yangon', 'Yangon', 'Mandalay', 'Mandalay', 'Yangon', 'Mandalay', 'Yangon', 'Yangon', 'Mandalay', 'Naypyitaw', 'Naypyitaw', 'Yangon', 'Mandalay', 'Yangon', 'Naypyitaw', 'Yangon', 'Yangon', 'Yangon', 'Naypyitaw', 'Naypyitaw', 'Yangon', 'Yangon', 'Yangon', 'Naypyitaw', 'Mandalay', 'Yangon', 'Mandalay', 'Mandalay', 'Yangon', 'Mandalay', 'Yangon', 'Naypyitaw', 'Yangon', 'Mandalay', 'Mandalay', 'Yangon', 'Naypyitaw', 'Mandalay', 'Naypyitaw', 'Naypyitaw', 'Yangon', 'Yangon', 'Naypyitaw', 'Mandalay', 'Yangon', 'Yangon', 'Naypyitaw', 'Naypyitaw', 'Mandalay', 'Yangon', 'Mandalay', 'Mandalay', 'Naypyitaw', 'Mandalay', 'Yangon', 'Yangon', 'Yangon', 'Yangon', 'Yangon', 'Naypyitaw', 'Yangon', 'Naypyitaw', 'Mandalay', 'Naypyitaw', 'Mandalay', 'Mandalay', 'Mandalay', 'Naypyitaw', 'Naypyitaw', 'Naypyitaw', 'Yangon', 'Naypyitaw', 'Mandalay', 'Yangon', 'Yangon', 'Naypyitaw', 'Naypyitaw', 'Naypyitaw', 'Mandalay', 'Yangon', 'Mandalay', 'Mandalay', 'Naypyitaw', 'Yangon', 'Yangon', 'Yangon', 'Naypyitaw', 'Naypyitaw', 'Yangon', 'Mandalay', 'Mandalay', 'Naypyitaw', 'Mandalay', 'Naypyitaw', 'Naypyitaw', 'Naypyitaw', 'Mandalay', 'Mandalay', 'Yangon', 'Mandalay', 'Mandalay', 'Mandalay', 'Naypyitaw', 'Yangon', 'Naypyitaw', 'Mandalay', 'Naypyitaw', 'Naypyitaw', 'Yangon', 'Yangon', 'Naypyitaw', 'Yangon', 'Naypyitaw', 'Yangon', 'Yangon', 'Yangon', 'Yangon', 'Naypyitaw', 'Mandalay', 'Naypyitaw', 'Mandalay', 'Mandalay', 'Mandalay', 'Mandalay', 'Naypyitaw', 'Mandalay', 'Yangon', 'Naypyitaw', 'Mandalay', 'Naypyitaw', 'Yangon', 'Naypyitaw', 'Yangon', 'Yangon', 'Naypyitaw', 'Mandalay', 'Mandalay', 'Yangon', 'Yangon', 'Yangon', 'Mandalay', 'Mandalay', 'Mandalay', 'Mandalay', 'Yangon', 'Naypyitaw', 'Mandalay', 'Yangon', 'Mandalay', 'Mandalay', 'Mandalay', 'Naypyitaw', 'Yangon', 'Yangon', 'Naypyitaw', 'Naypyitaw', 'Mandalay', 'Mandalay', 'Mandalay', 'Naypyitaw', 'Mandalay', 'Yangon', 'Mandalay', 'Yangon', 'Mandalay', 'Naypyitaw', 'Naypyitaw', 'Mandalay', 'Yangon', 'Yangon', 'Yangon'], 'Customer type': ['Member', 'Normal', 'Normal', 'Member', 'Normal', 'Normal', 'Member', 'Normal', 'Member', 'Member', 'Member', 'Member', 'Normal', 'Normal', 'Normal', 'Member', 'Member', 'Normal', 'Normal', 'Normal', 'Member', 'Normal', 'Normal', 'Normal', 'Member', 'Member', 'Normal', 'Normal', 'Normal', 'Normal', 'Normal', 'Member', 'Normal', 'Normal', 'Member', 'Member', 'Member', 'Normal', 'Normal', 'Member', 'Member', 'Member', 'Member', 'Member', 'Member', 'Member', 'Member', 'Member', 'Member', 'Member', 'Member', 'Member', 'Member', 'Member', 'Normal', 'Normal', 'Member', 'Normal', 'Member', 'Normal', 'Member', 'Normal', 'Member', 'Member', 'Member', 'Member', 'Normal', 'Member', 'Normal', 'Member', 'Normal', 'Normal', 'Member', 'Normal', 'Normal', 'Normal', 'Member', 'Member', 'Member', 'Normal', 'Normal', 'Normal', 'Normal', 'Member', 'Member', 'Normal', 'Normal', 'Member', 'Normal', 'Normal', 'Member', 'Normal', 'Member', 'Member', 'Normal', 'Normal', 'Normal', 'Normal', 'Normal', 'Normal', 'Member', 'Normal', 'Normal', 'Normal', 'Normal', 'Member', 'Normal', 'Normal', 'Normal', 'Member', 'Member', 'Member', 'Normal', 'Member', 'Member', 'Normal', 'Member', 'Member', 'Normal', 'Normal', 'Normal', 'Member', 'Member', 'Member', 'Member', 'Normal', 'Normal', 'Normal', 'Member', 'Normal', 'Normal', 'Member', 'Normal', 'Member', 'Normal', 'Normal', 'Normal', 'Member', 'Normal', 'Normal', 'Member', 'Member', 'Member', 'Member', 'Normal', 'Normal', 'Member', 'Normal', 'Member', 'Normal', 'Member', 'Member', 'Normal', 'Normal', 'Normal', 'Member', 'Member', 'Normal', 'Member', 'Normal', 'Normal', 'Normal', 'Normal', 'Normal', 'Normal', 'Member', 'Normal', 'Normal', 'Normal', 'Member', 'Normal', 'Member', 'Normal', 'Member', 'Normal', 'Member', 'Member', 'Normal', 'Normal', 'Member', 'Normal', 'Member', 'Member', 'Normal', 'Normal', 'Member', 'Member', 'Member', 'Normal', 'Normal', 'Normal', 'Normal', 'Normal', 'Normal', 'Normal', 'Member', 'Member', 'Normal', 'Normal', 'Member', 'Member', 'Member', 'Normal', 'Member', 'Member', 'Normal', 'Member', 'Member', 'Normal', 'Normal', 'Normal', 'Normal', 'Normal', 'Normal', 'Member', 'Normal', 'Normal', 'Member', 'Normal', 'Normal', 'Normal', 'Normal', 'Normal', 'Member', 'Normal', 'Member', 'Member', 'Member', 'Member', 'Normal', 'Normal', 'Member', 'Normal', 'Member', 'Member', 'Normal', 'Normal', 'Member', 'Member', 'Normal', 'Normal', 'Normal', 'Member', 'Member', 'Normal', 'Member', 'Member', 'Member', 'Member', 'Normal', 'Member', 'Member', 'Normal', 'Normal', 'Member', 'Member', 'Member', 'Member', 'Member', 'Member', 'Normal', 'Normal', 'Member', 'Member', 'Normal', 'Member', 'Normal', 'Member', 'Member', 'Member', 'Normal', 'Member', 'Member', 'Normal', 'Normal', 'Normal', 'Member', 'Normal', 'Member', 'Member', 'Normal', 'Normal', 'Normal', 'Member', 'Member', 'Normal', 'Member', 'Normal', 'Normal', 'Member', 'Member', 'Normal', 'Member', 'Member', 'Normal', 'Member', 'Normal', 'Member', 'Member', 'Member', 'Normal', 'Member', 'Normal', 'Normal', 'Normal', 'Member', 'Normal', 'Member', 'Member', 'Normal', 'Member', 'Member', 'Member', 'Member', 'Member', 'Member', 'Member', 'Member', 'Member', 'Member', 'Normal', 'Normal', 'Normal', 'Normal', 'Normal', 'Normal', 'Member', 'Member', 'Member', 'Member', 'Normal', 'Normal', 'Normal', 'Member', 'Member', 'Member', 'Normal', 'Normal', 'Normal', 'Member', 'Member', 'Member', 'Member', 'Normal', 'Normal', 'Normal', 'Member', 'Member', 'Normal', 'Normal', 'Member', 'Normal', 'Member', 'Member', 'Normal', 'Member', 'Normal', 'Normal', 'Normal', 'Normal', 'Member', 'Normal', 'Normal', 'Normal', 'Normal', 'Normal', 'Normal', 'Member', 'Normal', 'Member', 'Member', 'Normal', 'Normal', 'Normal', 'Normal', 'Member', 'Member', 'Normal', 'Member', 'Normal', 'Member', 'Normal', 'Normal', 'Member', 'Normal', 'Member', 'Normal', 'Normal', 'Member', 'Normal', 'Member', 'Normal', 'Member', 'Member', 'Normal', 'Normal', 'Normal', 'Normal', 'Member', 'Member', 'Normal', 'Normal', 'Member', 'Normal', 'Member', 'Member', 'Normal', 'Member', 'Normal', 'Normal', 'Normal', 'Normal', 'Member', 'Normal', 'Normal', 'Normal', 'Normal', 'Member', 'Normal', 'Member', 'Member', 'Normal', 'Member', 'Member', 'Normal', 'Member', 'Member', 'Member', 'Normal', 'Member', 'Normal', 'Normal', 'Normal', 'Normal', 'Normal', 'Normal', 'Member', 'Normal', 'Member', 'Normal', 'Member', 'Member', 'Member', 'Normal', 'Normal', 'Member', 'Member', 'Normal', 'Member', 'Member', 'Normal', 'Normal', 'Normal', 'Normal', 'Member', 'Member', 'Member', 'Normal', 'Member', 'Normal', 'Normal', 'Member', 'Normal', 'Member', 'Member', 'Member', 'Member', 'Normal', 'Normal', 'Member', 'Member', 'Member', 'Member', 'Member', 'Member', 'Normal', 'Normal', 'Normal', 'Normal', 'Normal', 'Normal', 'Normal', 'Normal', 'Member', 'Member', 'Member', 'Normal', 'Normal', 'Normal', 'Member', 'Normal', 'Member', 'Member', 'Member', 'Normal', 'Normal', 'Normal', 'Normal', 'Member', 'Member', 'Member', 'Member', 'Normal', 'Normal', 'Normal', 'Member', 'Member', 'Normal', 'Member', 'Member', 'Member', 'Normal', 'Normal', 'Normal', 'Member', 'Member', 'Member', 'Member', 'Normal', 'Member', 'Normal', 'Member', 'Member', 'Normal', 'Normal', 'Member', 'Normal', 'Member', 'Member', 'Normal', 'Normal', 'Member', 'Normal', 'Normal', 'Normal', 'Normal', 'Member', 'Normal', 'Normal', 'Member', 'Normal', 'Member', 'Member', 'Member', 'Normal', 'Member', 'Normal', 'Normal', 'Normal', 'Normal', 'Normal', 'Normal', 'Normal', 'Normal', 'Member', 'Normal', 'Member', 'Member', 'Member', 'Member', 'Normal', 'Normal', 'Normal', 'Member', 'Normal', 'Normal', 'Normal', 'Normal', 'Normal', 'Normal', 'Member', 'Member', 'Member', 'Normal', 'Normal', 'Member', 'Normal', 'Normal', 'Normal', 'Normal', 'Normal', 'Member', 'Member', 'Member', 'Normal', 'Normal', 'Normal', 'Normal', 'Normal', 'Normal', 'Member', 'Member', 'Member', 'Member', 'Member', 'Normal', 'Normal', 'Normal', 'Normal', 'Member', 'Normal', 'Normal', 'Normal', 'Normal', 'Member', 'Normal', 'Member', 'Member', 'Normal', 'Member', 'Normal', 'Member', 'Member', 'Member', 'Member', 'Member', 'Member', 'Member', 'Member', 'Member', 'Normal', 'Member', 'Member', 'Normal', 'Member', 'Member', 'Normal', 'Member', 'Member', 'Normal', 'Normal', 'Normal', 'Member', 'Normal', 'Member', 'Member', 'Normal', 'Normal', 'Member', 'Normal', 'Member', 'Member', 'Member', 'Member', 'Member', 'Member', 'Normal', 'Member', 'Member', 'Normal', 'Normal', 'Normal', 'Member', 'Member', 'Member', 'Normal', 'Normal', 'Member', 'Member', 'Member', 'Normal', 'Member', 'Member', 'Member', 'Normal', 'Normal', 'Member', 'Normal', 'Member', 'Normal', 'Member', 'Member', 'Normal', 'Normal', 'Normal', 'Member', 'Member', 'Member', 'Normal', 'Member', 'Member', 'Normal', 'Normal', 'Member', 'Member', 'Member', 'Member', 'Member', 'Member', 'Normal', 'Member', 'Member', 'Member', 'Member', 'Normal', 'Member', 'Member', 'Normal', 'Member', 'Normal', 'Normal', 'Normal', 'Member', 'Member', 'Member', 'Normal', 'Normal', 'Member', 'Normal', 'Normal', 'Member', 'Member', 'Normal', 'Normal', 'Member', 'Normal', 'Member', 'Member', 'Normal', 'Member', 'Normal', 'Member', 'Normal', 'Member', 'Member', 'Member', 'Member', 'Normal', 'Normal', 'Member', 'Member', 'Normal', 'Member', 'Normal', 'Member', 'Member', 'Member', 'Normal', 'Member', 'Normal', 'Normal', 'Normal', 'Member', 'Member', 'Member', 'Member', 'Member', 'Member', 'Member', 'Member', 'Member', 'Normal', 'Member', 'Normal', 'Member', 'Normal', 'Member', 'Normal', 'Member', 'Normal', 'Member', 'Normal', 'Member', 'Member', 'Member', 'Normal', 'Normal', 'Normal', 'Normal', 'Normal', 'Member', 'Member', 'Member', 'Normal', 'Member', 'Normal', 'Member', 'Normal', 'Member', 'Member', 'Normal', 'Normal', 'Member', 'Normal', 'Member', 'Normal', 'Normal', 'Normal', 'Member', 'Normal', 'Normal', 'Member', 'Normal', 'Member', 'Normal', 'Normal', 'Member', 'Member', 'Normal', 'Member', 'Normal', 'Member', 'Member', 'Member', 'Member', 'Normal', 'Normal', 'Normal', 'Normal', 'Normal', 'Normal', 'Normal', 'Member', 'Normal', 'Member', 'Normal', 'Normal', 'Normal', 'Member', 'Member', 'Normal', 'Member', 'Member', 'Normal', 'Member', 'Member', 'Member', 'Member', 'Normal', 'Member', 'Normal', 'Normal', 'Member', 'Member', 'Member', 'Normal', 'Member', 'Normal', 'Normal', 'Member', 'Normal', 'Normal', 'Member', 'Member', 'Normal', 'Member', 'Member', 'Normal', 'Member', 'Normal', 'Normal', 'Normal', 'Normal', 'Normal', 'Member', 'Normal', 'Normal', 'Member', 'Normal', 'Member', 'Member', 'Member', 'Normal', 'Normal', 'Member', 'Member', 'Member', 'Member', 'Member', 'Normal', 'Member', 'Normal', 'Member', 'Member', 'Member', 'Normal', 'Member', 'Member', 'Normal', 'Member', 'Member', 'Member', 'Member', 'Member', 'Member', 'Normal', 'Member', 'Member', 'Normal', 'Member', 'Normal', 'Normal', 'Member', 'Normal', 'Member', 'Normal', 'Normal', 'Member', 'Member', 'Member', 'Member', 'Normal', 'Member', 'Normal', 'Normal', 'Member', 'Normal', 'Normal', 'Member', 'Normal', 'Member', 'Normal', 'Normal', 'Member', 'Member', 'Normal', 'Member', 'Normal', 'Normal', 'Member', 'Member', 'Normal', 'Member', 'Normal', 'Member', 'Normal', 'Member', 'Member', 'Normal', 'Normal', 'Normal', 'Member', 'Normal', 'Normal', 'Normal', 'Member', 'Normal', 'Normal', 'Member', 'Normal', 'Normal', 'Member', 'Normal', 'Normal', 'Member', 'Normal', 'Member', 'Member', 'Member', 'Normal', 'Member', 'Member', 'Member', 'Member', 'Member', 'Normal', 'Member', 'Normal', 'Normal', 'Member', 'Member', 'Member', 'Normal', 'Member', 'Normal', 'Normal', 'Normal', 'Member', 'Normal', 'Member', 'Member', 'Member', 'Normal', 'Normal', 'Normal', 'Member', 'Normal', 'Member', 'Normal', 'Normal', 'Member', 'Normal', 'Member', 'Normal', 'Normal', 'Normal', 'Normal', 'Member', 'Member', 'Member', 'Normal', 'Normal', 'Normal', 'Normal', 'Member', 'Normal', 'Normal', 'Member', 'Normal', 'Member'], 'Gender': ['Female', 'Female', 'Male', 'Male', 'Male', 'Male', 'Female', 'Female', 'Female', 'Female', 'Female', 'Male', 'Female', 'Male', 'Female', 'Female', 'Female', 'Male', 'Male', 'Female', 'Male', 'Male', 'Male', 'Male', 'Male', 'Female', 'Male', 'Female', 'Female', 'Male', 'Male', 'Male', 'Male', 'Male', 'Female', 'Female', 'Male', 'Female', 'Female', 'Male', 'Female', 'Male', 'Female', 'Female', 'Male', 'Female', 'Male', 'Female', 'Male', 'Female', 'Male', 'Female', 'Female', 'Male', 'Male', 'Female', 'Male', 'Male', 'Female', 'Male', 'Female', 'Male', 'Female', 'Male', 'Male', 'Male', 'Female', 'Female', 'Male', 'Female', 'Male', 'Male', 'Female', 'Female', 'Male', 'Female', 'Male', 'Female', 'Female', 'Female', 'Female', 'Female', 'Male', 'Female', 'Male', 'Female', 'Male', 'Male', 'Male', 'Female', 'Female', 'Female', 'Female', 'Male', 'Male', 'Male', 'Male', 'Female', 'Male', 'Male', 'Male', 'Male', 'Female', 'Male', 'Male', 'Male', 'Male', 'Male', 'Female', 'Male', 'Female', 'Female', 'Female', 'Male', 'Female', 'Female', 'Male', 'Male', 'Female', 'Male', 'Female', 'Male', 'Male', 'Male', 'Female', 'Female', 'Female', 'Female', 'Female', 'Female', 'Female', 'Female', 'Female', 'Male', 'Female', 'Male', 'Female', 'Female', 'Male', 'Male', 'Female', 'Male', 'Female', 'Female', 'Female', 'Female', 'Female', 'Male', 'Male', 'Male', 'Female', 'Male', 'Male', 'Female', 'Female', 'Male', 'Male', 'Male', 'Male', 'Male', 'Female', 'Male', 'Male', 'Male', 'Male', 'Male', 'Male', 'Male', 'Male', 'Male', 'Male', 'Male', 'Male', 'Male', 'Male', 'Male', 'Male', 'Female', 'Male', 'Male', 'Male', 'Male', 'Male', 'Male', 'Female', 'Male', 'Female', 'Male', 'Male', 'Female', 'Female', 'Female', 'Female', 'Male', 'Male', 'Female', 'Male', 'Female', 'Male', 'Female', 'Female', 'Female', 'Male', 'Male', 'Male', 'Female', 'Female', 'Female', 'Female', 'Female', 'Male', 'Female', 'Male', 'Male', 'Female', 'Male', 'Female', 'Female', 'Male', 'Female', 'Male', 'Male', 'Male', 'Female', 'Male', 'Female', 'Male', 'Male', 'Female', 'Female', 'Female', 'Female', 'Female', 'Male', 'Male', 'Female', 'Male', 'Female', 'Female', 'Male', 'Male', 'Male', 'Male', 'Male', 'Male', 'Male', 'Female', 'Male', 'Male', 'Male', 'Male', 'Male', 'Female', 'Male', 'Male', 'Male', 'Male', 'Male', 'Male', 'Male', 'Female', 'Female', 'Female', 'Female', 'Male', 'Female', 'Male', 'Female', 'Male', 'Female', 'Female', 'Female', 'Female', 'Female', 'Female', 'Male', 'Female', 'Female', 'Male', 'Male', 'Female', 'Male', 'Female', 'Male', 'Female', 'Male', 'Male', 'Female', 'Female', 'Female', 'Male', 'Male', 'Female', 'Female', 'Male', 'Female', 'Male', 'Male', 'Male', 'Female', 'Male', 'Male', 'Male', 'Female', 'Female', 'Male', 'Female', 'Female', 'Female', 'Female', 'Male', 'Male', 'Female', 'Female', 'Female', 'Male', 'Female', 'Male', 'Female', 'Male', 'Female', 'Female', 'Male', 'Female', 'Male', 'Male', 'Male', 'Male', 'Male', 'Male', 'Male', 'Male', 'Male', 'Male', 'Male', 'Female', 'Male', 'Female', 'Female', 'Female', 'Male', 'Female', 'Female', 'Female', 'Male', 'Female', 'Male', 'Female', 'Male', 'Female', 'Female', 'Male', 'Female', 'Male', 'Female', 'Female', 'Female', 'Female', 'Male', 'Male', 'Male', 'Female', 'Male', 'Male', 'Female', 'Female', 'Female', 'Male', 'Female', 'Male', 'Female', 'Female', 'Female', 'Male', 'Female', 'Female', 'Female', 'Male', 'Male', 'Female', 'Male', 'Female', 'Female', 'Female', 'Female', 'Male', 'Male', 'Female', 'Female', 'Male', 'Female', 'Female', 'Male', 'Female', 'Female', 'Female', 'Female', 'Male', 'Female', 'Male', 'Female', 'Male', 'Male', 'Female', 'Female', 'Male', 'Male', 'Female', 'Female', 'Female', 'Female', 'Male', 'Male', 'Male', 'Male', 'Male', 'Female', 'Female', 'Female', 'Female', 'Female', 'Female', 'Female', 'Male', 'Male', 'Male', 'Male', 'Female', 'Male', 'Female', 'Male', 'Male', 'Female', 'Male', 'Female', 'Male', 'Male', 'Male', 'Male', 'Female', 'Male', 'Female', 'Female', 'Male', 'Female', 'Female', 'Male', 'Male', 'Female', 'Female', 'Female', 'Male', 'Female', 'Male', 'Male', 'Female', 'Female', 'Male', 'Female', 'Male', 'Male', 'Female', 'Female', 'Female', 'Male', 'Female', 'Female', 'Male', 'Male', 'Female', 'Female', 'Female', 'Male', 'Male', 'Female', 'Male', 'Female', 'Male', 'Male', 'Male', 'Male', 'Female', 'Male', 'Male', 'Female', 'Female', 'Female', 'Male', 'Male', 'Female', 'Female', 'Female', 'Female', 'Female', 'Male', 'Male', 'Female', 'Female', 'Female', 'Female', 'Male', 'Female', 'Male', 'Female', 'Male', 'Male', 'Female', 'Female', 'Male', 'Female', 'Female', 'Female', 'Female', 'Male', 'Male', 'Female', 'Male', 'Male', 'Male', 'Male', 'Female', 'Female', 'Female', 'Male', 'Male', 'Female', 'Male', 'Male', 'Female', 'Male', 'Male', 'Male', 'Male', 'Female', 'Female', 'Male', 'Female', 'Male', 'Female', 'Female', 'Male', 'Male', 'Female', 'Male', 'Female', 'Male', 'Female', 'Male', 'Female', 'Female', 'Male', 'Female', 'Female', 'Male', 'Male', 'Male', 'Female', 'Female', 'Male', 'Female', 'Male', 'Male', 'Female', 'Male', 'Male', 'Female', 'Female', 'Female', 'Female', 'Female', 'Female', 'Male', 'Male', 'Male', 'Male', 'Male', 'Male', 'Male', 'Female', 'Male', 'Male', 'Female', 'Female', 'Female', 'Male', 'Male', 'Female', 'Female', 'Male', 'Male', 'Male', 'Female', 'Female', 'Female', 'Male', 'Male', 'Male', 'Female', 'Female', 'Female', 'Male', 'Female', 'Male', 'Female', 'Female', 'Male', 'Female', 'Female', 'Male', 'Male', 'Female', 'Female', 'Male', 'Male', 'Male', 'Female', 'Male', 'Male', 'Male', 'Female', 'Female', 'Female', 'Female', 'Female', 'Male', 'Female', 'Male', 'Male', 'Male', 'Female', 'Male', 'Male', 'Male', 'Male', 'Male', 'Male', 'Male', 'Female', 'Female', 'Male', 'Female', 'Female', 'Male', 'Female', 'Male', 'Male', 'Male', 'Male', 'Female', 'Male', 'Male', 'Female', 'Male', 'Male', 'Male', 'Female', 'Female', 'Female', 'Female', 'Male', 'Female', 'Male', 'Female', 'Female', 'Female', 'Female', 'Male', 'Female', 'Female', 'Female', 'Male', 'Male', 'Female', 'Male', 'Female', 'Male', 'Female', 'Female', 'Male', 'Male', 'Female', 'Female', 'Female', 'Male', 'Female', 'Female', 'Female', 'Male', 'Male', 'Female', 'Female', 'Male', 'Male', 'Female', 'Female', 'Female', 'Female', 'Male', 'Male', 'Male', 'Female', 'Male', 'Female', 'Male', 'Female', 'Male', 'Female', 'Male', 'Male', 'Male', 'Male', 'Female', 'Female', 'Female', 'Male', 'Female', 'Female', 'Male', 'Male', 'Female', 'Female', 'Female', 'Male', 'Female', 'Male', 'Female', 'Male', 'Male', 'Male', 'Female', 'Female', 'Male', 'Male', 'Male', 'Male', 'Male', 'Female', 'Male', 'Male', 'Male', 'Male', 'Male', 'Female', 'Male', 'Female', 'Female', 'Male', 'Female', 'Female', 'Male', 'Female', 'Female', 'Female', 'Male', 'Female', 'Female', 'Female', 'Female', 'Male', 'Female', 'Female', 'Male', 'Female', 'Female', 'Male', 'Female', 'Female', 'Male', 'Female', 'Female', 'Female', 'Female', 'Female', 'Female', 'Male', 'Female', 'Male', 'Male', 'Male', 'Male', 'Male', 'Female', 'Female', 'Female', 'Female', 'Male', 'Male', 'Female', 'Male', 'Male', 'Male', 'Male', 'Female', 'Male', 'Female', 'Male', 'Female', 'Female', 'Male', 'Male', 'Male', 'Female', 'Male', 'Female', 'Female', 'Female', 'Female', 'Female', 'Female', 'Female', 'Male', 'Female', 'Female', 'Male', 'Female', 'Female', 'Female', 'Male', 'Male', 'Male', 'Male', 'Female', 'Male', 'Female', 'Female', 'Female', 'Female', 'Male', 'Male', 'Female', 'Male', 'Male', 'Female', 'Male', 'Female', 'Male', 'Male', 'Male', 'Male', 'Female', 'Male', 'Male', 'Female', 'Female', 'Male', 'Male', 'Male', 'Female', 'Female', 'Female', 'Male', 'Female', 'Male', 'Female', 'Female', 'Female', 'Male', 'Female', 'Male', 'Female', 'Female', 'Male', 'Female', 'Female', 'Female', 'Male', 'Male', 'Female', 'Male', 'Male', 'Male', 'Male', 'Female', 'Male', 'Male', 'Male', 'Male', 'Male', 'Female', 'Female', 'Female', 'Female', 'Male', 'Female', 'Female', 'Male', 'Male', 'Female', 'Female', 'Male', 'Female', 'Female', 'Female', 'Male', 'Male', 'Male', 'Male', 'Female', 'Male', 'Male', 'Female', 'Male', 'Female', 'Male', 'Female', 'Female', 'Male', 'Female', 'Female', 'Female', 'Female', 'Female', 'Female', 'Male', 'Female', 'Female', 'Male', 'Female', 'Male', 'Female', 'Female', 'Female', 'Female', 'Female', 'Female', 'Female', 'Male', 'Female', 'Female', 'Male', 'Male', 'Female', 'Female', 'Male', 'Female', 'Male', 'Female', 'Female', 'Female', 'Female', 'Male', 'Male', 'Female', 'Male', 'Male', 'Female', 'Male', 'Male', 'Male', 'Female', 'Male', 'Female', 'Female', 'Female', 'Male', 'Female', 'Male', 'Male', 'Female', 'Female', 'Male', 'Male', 'Female', 'Male', 'Male', 'Female', 'Female', 'Male', 'Female', 'Female', 'Female', 'Male', 'Male', 'Male', 'Male', 'Male', 'Female', 'Male', 'Female', 'Female', 'Male', 'Male', 'Female', 'Male', 'Male', 'Female', 'Female', 'Male', 'Male', 'Male', 'Female', 'Female', 'Male', 'Male', 'Female', 'Male', 'Female', 'Male', 'Male', 'Female']}, 'general': {'Branch': ['A', 'C', 'A', 'A', 'A', 'C', 'A', 'C', 'A', 'B', 'B', 'B', 'A', 'A', 'A', 'B', 'A', 'A', 'A', 'B', 'C', 'B', 'B', 'A', 'A', 'A', 'B', 'A', 'B', 'A', 'B', 'B', 'B', 'A', 'C', 'C', 'A', 'A', 'C', 'B', 'B', 'C', 'B', 'C', 'C', 'B', 'B', 'B', 'B', 'C', 'C', 'A', 'B', 'C', 'B', 'C', 'A', 'A', 'A', 'C', 'C', 'C', 'B', 'A', 'B', 'A', 'C', 'B', 'A', 'A', 'C', 'C', 'B', 'C', 'A', 'C', 'C', 'A', 'C', 'C', 'C', 'B', 'C', 'C', 'C', 'C', 'C', 'A', 'A', 'B', 'C', 'C', 'A', 'B', 'C', 'A', 'B', 'C', 'A', 'B', 'C', 'C', 'C', 'A', 'B', 'A', 'C', 'A', 'C', 'C', 'B', 'C', 'B', 'A', 'C', 'C', 'B', 'B', 'A', 'B', 'A', 'C', 'B', 'C', 'B', 'A', 'A', 'C', 'C', 'B', 'B', 'A', 'B', 'B', 'C', 'C', 'A', 'A', 'B', 'A', 'C', 'C', 'C', 'C', 'A', 'C', 'A', 'C', 'B', 'A', 'B', 'C', 'A', 'C', 'C', 'A', 'B', 'B', 'B', 'B', 'C', 'A', 'A', 'C', 'B', 'B', 'C', 'A', 'A', 'A', 'A', 'B', 'C', 'B', 'B', 'A', 'A', 'C', 'A', 'C', 'C', 'C', 'A', 'C', 'A', 'B', 'B', 'B', 'A', 'C', 'B', 'B', 'C', 'B', 'A', 'C', 'C', 'A', 'C', 'C', 'C', 'B', 'C', 'B', 'B', 'A', 'C', 'C', 'B', 'B', 'A', 'C', 'B', 'B', 'B', 'A', 'B', 'A', 'B', 'B', 'B', 'B', 'C', 'C', 'A', 'C', 'B', 'C', 'B', 'A', 'B', 'B', 'B', 'B', 'A', 'A', 'C', 'C', 'B', 'A', 'A', 'A', 'C', 'A', 'B', 'A', 'B', 'A', 'A', 'B', 'B', 'C', 'C', 'A', 'A', 'B', 'A', 'A', 'A', 'C', 'A', 'C', 'B', 'A', 'B', 'A', 'C', 'B', 'A', 'A', 'B', 'C', 'A', 'A', 'B', 'B', 'C', 'C', 'C', 'A', 'A', 'C', 'A', 'A', 'A', 'B', 'C', 'C', 'B', 'A', 'B', 'C', 'A', 'A', 'B', 'C', 'C', 'A', 'A', 'C', 'C', 'B', 'C', 'A', 'B', 'A', 'A', 'A', 'A', 'A', 'B', 'C', 'A', 'A', 'C', 'C', 'C', 'C', 'C', 'C', 'C', 'C', 'A', 'A', 'A', 'B', 'A', 'C', 'B', 'A', 'B', 'A', 'A', 'A', 'C', 'A', 'A', 'B', 'C', 'B', 'B', 'B', 'B', 'C', 'A', 'A', 'A', 'C', 'A', 'B', 'C', 'A', 'B', 'B', 'C', 'B', 'C', 'C', 'B', 'B', 'A', 'C', 'C', 'A', 'C', 'C', 'C', 'A', 'C', 'A', 'B', 'B', 'C', 'C', 'A', 'A', 'B', 'C', 'C', 'B', 'A', 'C', 'B', 'C', 'A', 'B', 'C', 'A', 'C', 'B', 'C', 'B', 'A', 'A', 'A', 'A', 'A', 'B', 'B', 'B', 'C', 'C', 'C', 'B', 'C', 'A', 'A', 'B', 'A', 'C', 'B', 'B', 'A', 'A', 'A', 'B', 'C', 'C', 'B', 'A', 'C', 'C', 'C', 'B', 'C', 'B', 'A', 'B', 'B', 'A', 'B', 'C', 'A', 'B', 'B', 'C', 'C', 'A', 'C', 'C', 'C', 'B', 'A', 'C', 'A', 'B', 'C', 'C', 'B', 'B', 'B', 'B', 'A', 'A', 'A', 'B', 'B', 'B', 'C', 'C', 'C', 'B', 'C', 'C', 'A', 'C', 'C', 'B', 'C', 'C', 'C', 'A', 'A', 'B', 'A', 'A', 'A', 'C', 'B', 'A', 'C', 'C', 'A', 'B', 'C', 'B', 'B', 'A', 'C', 'B', 'B', 'A', 'B', 'C', 'B', 'B', 'C', 'C', 'B', 'A', 'B', 'C', 'C', 'B', 'B', 'A', 'B', 'B', 'B', 'C', 'B', 'A', 'A', 'A', 'C', 'C', 'B', 'C', 'A', 'C', 'B', 'C', 'A', 'C', 'A', 'A', 'B', 'B', 'B', 'A', 'A', 'A', 'B', 'C', 'A', 'C', 'B', 'A', 'A', 'C', 'A', 'C', 'B', 'C', 'B', 'B', 'A', 'A', 'B', 'A', 'B', 'B', 'B', 'C', 'A', 'B', 'B', 'C', 'A', 'A', 'B', 'C', 'B', 'A', 'B', 'A', 'C', 'A', 'B', 'C', 'B', 'B', 'A', 'B', 'A', 'B', 'B', 'C', 'A', 'B', 'C', 'A', 'C', 'B', 'B', 'A', 'A', 'A', 'C', 'A', 'C', 'C', 'A', 'A', 'B', 'B', 'A', 'C', 'C', 'A', 'C', 'C', 'C', 'B', 'C', 'B', 'A', 'C', 'A', 'B', 'A', 'C', 'B', 'C', 'A', 'A', 'B', 'C', 'A', 'C', 'A', 'A', 'B', 'B', 'B', 'B', 'A', 'B', 'A', 'A', 'A', 'A', 'A', 'B', 'B', 'B', 'A', 'C', 'B', 'B', 'B', 'C', 'B', 'C', 'C', 'A', 'C', 'B', 'C', 'C', 'B', 'B', 'A', 'B', 'B', 'A', 'C', 'A', 'A', 'A', 'B', 'C', 'B', 'C', 'C', 'A', 'B', 'B', 'C', 'B', 'A', 'B', 'B', 'C', 'A', 'B', 'B', 'A', 'C', 'A', 'B', 'B', 'C', 'A', 'B', 'B', 'B', 'A', 'C', 'A', 'C', 'C', 'A', 'C', 'C', 'A', 'A', 'B', 'A', 'C', 'C', 'B', 'B', 'B', 'B', 'B', 'B', 'C', 'C', 'A', 'A', 'C', 'C', 'C', 'C', 'A', 'A', 'A', 'A', 'B', 'B', 'C', 'B', 'C', 'B', 'C', 'C', 'B', 'C', 'B', 'A', 'A', 'A', 'B', 'B', 'C', 'C', 'C', 'B', 'A', 'C', 'C', 'A', 'A', 'C', 'C', 'B', 'C', 'B', 'C', 'B', 'A', 'A', 'B', 'C', 'A', 'B', 'A', 'A', 'A', 'B', 'B', 'A', 'A', 'A', 'B', 'C', 'B', 'B', 'A', 'B', 'C', 'C', 'C', 'C', 'B', 'C', 'B', 'C', 'B', 'C', 'A', 'A', 'C', 'C', 'A', 'C', 'C', 'C', 'A', 'A', 'C', 'B', 'A', 'A', 'B', 'C', 'A', 'B', 'C', 'B', 'C', 'C', 'A', 'B', 'A', 'A', 'A', 'B', 'C', 'B', 'A', 'C', 'A', 'A', 'B', 'C', 'A', 'B', 'B', 'B', 'A', 'C', 'A', 'B', 'A', 'B', 'A', 'C', 'A', 'A', 'B', 'B', 'A', 'B', 'A', 'A', 'B', 'C', 'C', 'A', 'B', 'A', 'C', 'A', 'A', 'A', 'C', 'C', 'A', 'A', 'A', 'C', 'B', 'A', 'B', 'B', 'A', 'B', 'A', 'C', 'A', 'B', 'B', 'A', 'C', 'B', 'C', 'C', 'A', 'A', 'C', 'B', 'A', 'A', 'C', 'C', 'B', 'A', 'B', 'B', 'C', 'B', 'A', 'A', 'A', 'A', 'A', 'C', 'A', 'C', 'B', 'C', 'B', 'B', 'B', 'C', 'C', 'C', 'A', 'C', 'B', 'A', 'A', 'C', 'C', 'C', 'B', 'A', 'B', 'B', 'C', 'A', 'A', 'A', 'C', 'C', 'A', 'B', 'B', 'C', 'B', 'C', 'C', 'C', 'B', 'B', 'A', 'B', 'B', 'B', 'C', 'A', 'C', 'B', 'C', 'C', 'A', 'A', 'C', 'A', 'C', 'A', 'A', 'A', 'A', 'C', 'B', 'C', 'B', 'B', 'B', 'B', 'C', 'B', 'A', 'C', 'B', 'C', 'A', 'C', 'A', 'A', 'C', 'B', 'B', 'A', 'A', 'A', 'B', 'B', 'B', 'B', 'A', 'C', 'B', 'A', 'B', 'B', 'B', 'C', 'A', 'A', 'C', 'C', 'B', 'B', 'B', 'C', 'B', 'A', 'B', 'A', 'B', 'C', 'C', 'B', 'A', 'A', 'A'], 'Product line': ['Health and beauty', 'Electronic accessories', 'Home and lifestyle', 'Health and beauty', 'Sports and travel', 'Electronic accessories', 'Electronic accessories', 'Home and lifestyle', 'Health and beauty', 'Food and beverages', 'Fashion accessories', 'Electronic accessories', 'Electronic accessories', 'Food and beverages', 'Health and beauty', 'Sports and travel', 'Health and beauty', 'Sports and travel', 'Food and beverages', 'Home and lifestyle', 'Electronic accessories', 'Health and beauty', 'Home and lifestyle', 'Electronic accessories', 'Sports and travel', 'Home and lifestyle', 'Fashion accessories', 'Fashion accessories', 'Food and beverages', 'Health and beauty', 'Fashion accessories', 'Sports and travel', 'Sports and travel', 'Health and beauty', 'Food and beverages', 'Sports and travel', 'Sports and travel', 'Electronic accessories', 'Health and beauty', 'Home and lifestyle', 'Home and lifestyle', 'Home and lifestyle', 'Sports and travel', 'Food and beverages', 'Health and beauty', 'Electronic accessories', 'Health and beauty', 'Food and beverages', 'Electronic accessories', 'Fashion accessories', 'Food and beverages', 'Food and beverages', 'Fashion accessories', 'Fashion accessories', 'Home and lifestyle', 'Electronic accessories', 'Home and lifestyle', 'Health and beauty', 'Home and lifestyle', 'Electronic accessories', 'Sports and travel', 'Home and lifestyle', 'Sports and travel', 'Sports and travel', 'Health and beauty', 'Health and beauty', 'Health and beauty', 'Fashion accessories', 'Sports and travel', 'Health and beauty', 'Food and beverages', 'Fashion accessories', 'Food and beverages', 'Electronic accessories', 'Home and lifestyle', 'Electronic accessories', 'Fashion accessories', 'Fashion accessories', 'Food and beverages', 'Health and beauty', 'Health and beauty', 'Food and beverages', 'Food and beverages', 'Food and beverages', 'Sports and travel', 'Sports and travel', 'Fashion accessories', 'Food and beverages', 'Sports and travel', 'Health and beauty', 'Home and lifestyle', 'Sports and travel', 'Sports and travel', 'Health and beauty', 'Health and beauty', 'Electronic accessories', 'Health and beauty', 'Electronic accessories', 'Food and beverages', 'Home and lifestyle', 'Fashion accessories', 'Fashion accessories', 'Electronic accessories', 'Food and beverages', 'Health and beauty', 'Electronic accessories', 'Fashion accessories', 'Sports and travel', 'Food and beverages', 'Electronic accessories', 'Sports and travel', 'Health and beauty', 'Fashion accessories', 'Home and lifestyle', 'Home and lifestyle', 'Fashion accessories', 'Fashion accessories', 'Fashion accessories', 'Food and beverages', 'Home and lifestyle', 'Electronic accessories', 'Sports and travel', 'Sports and travel', 'Home and lifestyle', 'Fashion accessories', 'Home and lifestyle', 'Sports and travel', 'Fashion accessories', 'Food and beverages', 'Sports and travel', 'Fashion accessories', 'Sports and travel', 'Sports and travel', 'Electronic accessories', 'Health and beauty', 'Fashion accessories', 'Electronic accessories', 'Home and lifestyle', 'Sports and travel', 'Sports and travel', 'Sports and travel', 'Health and beauty', 'Health and beauty', 'Food and beverages', 'Home and lifestyle', 'Health and beauty', 'Fashion accessories', 'Health and beauty', 'Home and lifestyle', 'Health and beauty', 'Fashion accessories', 'Sports and travel', 'Fashion accessories', 'Food and beverages', 'Sports and travel', 'Food and beverages', 'Electronic accessories', 'Home and lifestyle', 'Health and beauty', 'Sports and travel', 'Food and beverages', 'Sports and travel', 'Food and beverages', 'Sports and travel', 'Food and beverages', 'Health and beauty', 'Home and lifestyle', 'Fashion accessories', 'Food and beverages', 'Sports and travel', 'Health and beauty', 'Food and beverages', 'Electronic accessories', 'Electronic accessories', 'Food and beverages', 'Home and lifestyle', 'Food and beverages', 'Fashion accessories', 'Food and beverages', 'Health and beauty', 'Fashion accessories', 'Food and beverages', 'Sports and travel', 'Health and beauty', 'Sports and travel', 'Food and beverages', 'Home and lifestyle', 'Home and lifestyle', 'Home and lifestyle', 'Home and lifestyle', 'Home and lifestyle', 'Fashion accessories', 'Food and beverages', 'Home and lifestyle', 'Electronic accessories', 'Fashion accessories', 'Health and beauty', 'Home and lifestyle', 'Health and beauty', 'Food and beverages', 'Sports and travel', 'Electronic accessories', 'Electronic accessories', 'Health and beauty', 'Home and lifestyle', 'Health and beauty', 'Electronic accessories', 'Home and lifestyle', 'Fashion accessories', 'Electronic accessories', 'Electronic accessories', 'Food and beverages', 'Home and lifestyle', 'Sports and travel', 'Sports and travel', 'Home and lifestyle', 'Sports and travel', 'Electronic accessories', 'Fashion accessories', 'Food and beverages', 'Electronic accessories', 'Food and beverages', 'Electronic accessories', 'Fashion accessories', 'Food and beverages', 'Sports and travel', 'Health and beauty', 'Electronic accessories', 'Electronic accessories', 'Home and lifestyle', 'Fashion accessories', 'Electronic accessories', 'Health and beauty', 'Fashion accessories', 'Health and beauty', 'Sports and travel', 'Health and beauty', 'Fashion accessories', 'Electronic accessories', 'Fashion accessories', 'Food and beverages', 'Health and beauty', 'Fashion accessories', 'Home and lifestyle', 'Home and lifestyle', 'Home and lifestyle', 'Electronic accessories', 'Fashion accessories', 'Electronic accessories', 'Food and beverages', 'Food and beverages', 'Fashion accessories', 'Sports and travel', 'Home and lifestyle', 'Home and lifestyle', 'Fashion accessories', 'Electronic accessories', 'Home and lifestyle', 'Electronic accessories', 'Electronic accessories', 'Electronic accessories', 'Fashion accessories', 'Fashion accessories', 'Sports and travel', 'Sports and travel', 'Sports and travel', 'Home and lifestyle', 'Food and beverages', 'Home and lifestyle', 'Home and lifestyle', 'Sports and travel', 'Health and beauty', 'Home and lifestyle', 'Home and lifestyle', 'Health and beauty', 'Fashion accessories', 'Home and lifestyle', 'Fashion accessories', 'Fashion accessories', 'Sports and travel', 'Home and lifestyle', 'Home and lifestyle', 'Sports and travel', 'Health and beauty', 'Health and beauty', 'Health and beauty', 'Home and lifestyle', 'Sports and travel', 'Food and beverages', 'Home and lifestyle', 'Electronic accessories', 'Electronic accessories', 'Electronic accessories', 'Food and beverages', 'Health and beauty', 'Electronic accessories', 'Electronic accessories', 'Home and lifestyle', 'Home and lifestyle', 'Home and lifestyle', 'Fashion accessories', 'Health and beauty', 'Food and beverages', 'Electronic accessories', 'Electronic accessories', 'Electronic accessories', 'Sports and travel', 'Home and lifestyle', 'Electronic accessories', 'Fashion accessories', 'Sports and travel', 'Fashion accessories', 'Food and beverages', 'Health and beauty', 'Electronic accessories', 'Food and beverages', 'Food and beverages', 'Electronic accessories', 'Health and beauty', 'Health and beauty', 'Food and beverages', 'Health and beauty', 'Health and beauty', 'Fashion accessories', 'Home and lifestyle', 'Sports and travel', 'Food and beverages', 'Food and beverages', 'Health and beauty', 'Electronic accessories', 'Home and lifestyle', 'Food and beverages', 'Fashion accessories', 'Food and beverages', 'Sports and travel', 'Electronic accessories', 'Fashion accessories', 'Sports and travel', 'Electronic accessories', 'Food and beverages', 'Electronic accessories', 'Health and beauty', 'Health and beauty', 'Food and beverages', 'Sports and travel', 'Fashion accessories', 'Electronic accessories', 'Home and lifestyle', 'Electronic accessories', 'Health and beauty', 'Fashion accessories', 'Electronic accessories', 'Fashion accessories', 'Home and lifestyle', 'Electronic accessories', 'Food and beverages', 'Fashion accessories', 'Sports and travel', 'Electronic accessories', 'Sports and travel', 'Food and beverages', 'Food and beverages', 'Food and beverages', 'Home and lifestyle', 'Food and beverages', 'Fashion accessories', 'Electronic accessories', 'Home and lifestyle', 'Sports and travel', 'Electronic accessories', 'Electronic accessories', 'Fashion accessories', 'Home and lifestyle', 'Fashion accessories', 'Home and lifestyle', 'Fashion accessories', 'Home and lifestyle', 'Sports and travel', 'Fashion accessories', 'Electronic accessories', 'Sports and travel', 'Electronic accessories', 'Food and beverages', 'Food and beverages', 'Food and beverages', 'Sports and travel', 'Food and beverages', 'Health and beauty', 'Fashion accessories', 'Food and beverages', 'Fashion accessories', 'Fashion accessories', 'Electronic accessories', 'Sports and travel', 'Health and beauty', 'Health and beauty', 'Food and beverages', 'Home and lifestyle', 'Health and beauty', 'Electronic accessories', 'Food and beverages', 'Home and lifestyle', 'Home and lifestyle', 'Fashion accessories', 'Fashion accessories', 'Sports and travel', 'Food and beverages', 'Fashion accessories', 'Home and lifestyle', 'Fashion accessories', 'Health and beauty', 'Sports and travel', 'Health and beauty', 'Sports and travel', 'Home and lifestyle', 'Health and beauty', 'Home and lifestyle', 'Health and beauty', 'Health and beauty', 'Electronic accessories', 'Food and beverages', 'Electronic accessories', 'Fashion accessories', 'Fashion accessories', 'Fashion accessories', 'Fashion accessories', 'Health and beauty', 'Food and beverages', 'Sports and travel', 'Home and lifestyle', 'Fashion accessories', 'Food and beverages', 'Electronic accessories', 'Fashion accessories', 'Fashion accessories', 'Sports and travel', 'Sports and travel', 'Home and lifestyle', 'Food and beverages', 'Electronic accessories', 'Food and beverages', 'Sports and travel', 'Home and lifestyle', 'Fashion accessories', 'Sports and travel', 'Health and beauty', 'Food and beverages', 'Fashion accessories', 'Health and beauty', 'Sports and travel', 'Electronic accessories', 'Electronic accessories', 'Food and beverages', 'Health and beauty', 'Electronic accessories', 'Fashion accessories', 'Food and beverages', 'Electronic accessories', 'Electronic accessories', 'Food and beverages', 'Food and beverages', 'Food and beverages', 'Sports and travel', 'Food and beverages', 'Food and beverages', 'Sports and travel', 'Health and beauty', 'Sports and travel', 'Food and beverages', 'Electronic accessories', 'Home and lifestyle', 'Sports and travel', 'Fashion accessories', 'Health and beauty', 'Electronic accessories', 'Health and beauty', 'Sports and travel', 'Electronic accessories', 'Sports and travel', 'Electronic accessories', 'Food and beverages', 'Electronic accessories', 'Sports and travel', 'Home and lifestyle', 'Sports and travel', 'Sports and travel', 'Fashion accessories', 'Fashion accessories', 'Home and lifestyle', 'Home and lifestyle', 'Fashion accessories', 'Fashion accessories', 'Health and beauty', 'Home and lifestyle', 'Fashion accessories', 'Sports and travel', 'Electronic accessories', 'Food and beverages', 'Sports and travel', 'Sports and travel', 'Sports and travel', 'Fashion accessories', 'Home and lifestyle', 'Sports and travel', 'Sports and travel', 'Electronic accessories', 'Sports and travel', 'Food and beverages', 'Health and beauty', 'Home and lifestyle', 'Sports and travel', 'Home and lifestyle', 'Fashion accessories', 'Electronic accessories', 'Sports and travel', 'Fashion accessories', 'Health and beauty', 'Home and lifestyle', 'Home and lifestyle', 'Sports and travel', 'Electronic accessories', 'Home and lifestyle', 'Home and lifestyle', 'Health and beauty', 'Food and beverages', 'Sports and travel', 'Fashion accessories', 'Fashion accessories', 'Food and beverages', 'Sports and travel', 'Health and beauty', 'Fashion accessories', 'Electronic accessories', 'Food and beverages', 'Home and lifestyle', 'Home and lifestyle', 'Fashion accessories', 'Home and lifestyle', 'Fashion accessories', 'Food and beverages', 'Home and lifestyle', 'Health and beauty', 'Sports and travel', 'Electronic accessories', 'Food and beverages', 'Home and lifestyle', 'Fashion accessories', 'Sports and travel', 'Sports and travel', 'Electronic accessories', 'Fashion accessories', 'Fashion accessories', 'Health and beauty', 'Electronic accessories', 'Electronic accessories', 'Home and lifestyle', 'Fashion accessories', 'Food and beverages', 'Food and beverages', 'Home and lifestyle', 'Electronic accessories', 'Food and beverages', 'Electronic accessories', 'Electronic accessories', 'Fashion accessories', 'Food and beverages', 'Sports and travel', 'Fashion accessories', 'Fashion accessories', 'Sports and travel', 'Home and lifestyle', 'Sports and travel', 'Food and beverages', 'Food and beverages', 'Sports and travel', 'Fashion accessories', 'Food and beverages', 'Food and beverages', 'Health and beauty', 'Health and beauty', 'Food and beverages', 'Health and beauty', 'Fashion accessories', 'Fashion accessories', 'Sports and travel', 'Health and beauty', 'Food and beverages', 'Sports and travel', 'Fashion accessories', 'Health and beauty', 'Health and beauty', 'Home and lifestyle', 'Sports and travel', 'Sports and travel', 'Sports and travel', 'Health and beauty', 'Food and beverages', 'Sports and travel', 'Fashion accessories', 'Home and lifestyle', 'Electronic accessories', 'Fashion accessories', 'Food and beverages', 'Sports and travel', 'Fashion accessories', 'Home and lifestyle', 'Fashion accessories', 'Food and beverages', 'Fashion accessories', 'Food and beverages', 'Electronic accessories', 'Food and beverages', 'Fashion accessories', 'Sports and travel', 'Food and beverages', 'Sports and travel', 'Sports and travel', 'Electronic accessories', 'Food and beverages', 'Fashion accessories', 'Food and beverages', 'Food and beverages', 'Home and lifestyle', 'Fashion accessories', 'Fashion accessories', 'Food and beverages', 'Sports and travel', 'Health and beauty', 'Home and lifestyle', 'Fashion accessories', 'Sports and travel', 'Electronic accessories', 'Food and beverages', 'Home and lifestyle', 'Food and beverages', 'Health and beauty', 'Health and beauty', 'Electronic accessories', 'Food and beverages', 'Fashion accessories', 'Food and beverages', 'Electronic accessories', 'Electronic accessories', 'Food and beverages', 'Electronic accessories', 'Home and lifestyle', 'Health and beauty', 'Fashion accessories', 'Sports and travel', 'Electronic accessories', 'Electronic accessories', 'Health and beauty', 'Home and lifestyle', 'Sports and travel', 'Fashion accessories', 'Electronic accessories', 'Electronic accessories', 'Fashion accessories', 'Sports and travel', 'Fashion accessories', 'Sports and travel', 'Sports and travel', 'Fashion accessories', 'Food and beverages', 'Sports and travel', 'Fashion accessories', 'Food and beverages', 'Health and beauty', 'Health and beauty', 'Sports and travel', 'Fashion accessories', 'Food and beverages', 'Health and beauty', 'Health and beauty', 'Electronic accessories', 'Fashion accessories', 'Sports and travel', 'Food and beverages', 'Health and beauty', 'Food and beverages', 'Electronic accessories', 'Sports and travel', 'Fashion accessories', 'Fashion accessories', 'Sports and travel', 'Home and lifestyle', 'Sports and travel', 'Home and lifestyle', 'Sports and travel', 'Food and beverages', 'Sports and travel', 'Food and beverages', 'Health and beauty', 'Fashion accessories', 'Food and beverages', 'Home and lifestyle', 'Sports and travel', 'Home and lifestyle', 'Electronic accessories', 'Home and lifestyle', 'Fashion accessories', 'Food and beverages', 'Fashion accessories', 'Health and beauty', 'Home and lifestyle', 'Health and beauty', 'Electronic accessories', 'Food and beverages', 'Fashion accessories', 'Sports and travel', 'Food and beverages', 'Home and lifestyle', 'Electronic accessories', 'Health and beauty', 'Fashion accessories', 'Health and beauty', 'Fashion accessories', 'Electronic accessories', 'Fashion accessories', 'Fashion accessories', 'Fashion accessories', 'Sports and travel', 'Home and lifestyle', 'Food and beverages', 'Food and beverages', 'Health and beauty', 'Home and lifestyle', 'Sports and travel', 'Fashion accessories', 'Home and lifestyle', 'Fashion accessories', 'Health and beauty', 'Fashion accessories', 'Electronic accessories', 'Food and beverages', 'Health and beauty', 'Home and lifestyle', 'Electronic accessories', 'Electronic accessories', 'Home and lifestyle', 'Home and lifestyle', 'Food and beverages', 'Sports and travel', 'Home and lifestyle', 'Sports and travel', 'Food and beverages', 'Fashion accessories', 'Home and lifestyle', 'Home and lifestyle', 'Health and beauty', 'Fashion accessories', 'Food and beverages', 'Electronic accessories', 'Home and lifestyle', 'Fashion accessories', 'Fashion accessories', 'Electronic accessories', 'Home and lifestyle', 'Food and beverages', 'Food and beverages', 'Food and beverages', 'Electronic accessories', 'Fashion accessories', 'Health and beauty', 'Health and beauty', 'Home and lifestyle', 'Fashion accessories', 'Sports and travel', 'Electronic accessories', 'Home and lifestyle', 'Sports and travel', 'Health and beauty', 'Sports and travel', 'Food and beverages', 'Food and beverages', 'Food and beverages', 'Health and beauty', 'Sports and travel', 'Sports and travel', 'Electronic accessories', 'Health and beauty', 'Sports and travel', 'Fashion accessories', 'Home and lifestyle', 'Health and beauty', 'Electronic accessories', 'Electronic accessories', 'Health and beauty', 'Health and beauty', 'Sports and travel', 'Fashion accessories', 'Health and beauty', 'Home and lifestyle', 'Electronic accessories', 'Electronic accessories', 'Fashion accessories', 'Home and lifestyle', 'Sports and travel', 'Health and beauty', 'Home and lifestyle', 'Sports and travel', 'Electronic accessories', 'Fashion accessories', 'Fashion accessories', 'Electronic accessories', 'Home and lifestyle', 'Sports and travel', 'Electronic accessories', 'Health and beauty', 'Fashion accessories', 'Health and beauty', 'Electronic accessories', 'Sports and travel', 'Electronic accessories', 'Electronic accessories', 'Food and beverages', 'Fashion accessories', 'Food and beverages', 'Health and beauty', 'Food and beverages', 'Electronic accessories', 'Home and lifestyle', 'Sports and travel', 'Health and beauty', 'Sports and travel', 'Sports and travel', 'Health and beauty', 'Fashion accessories', 'Electronic accessories', 'Electronic accessories', 'Electronic accessories', 'Health and beauty', 'Sports and travel', 'Health and beauty', 'Home and lifestyle', 'Fashion accessories', 'Fashion accessories', 'Sports and travel', 'Electronic accessories', 'Sports and travel', 'Fashion accessories', 'Electronic accessories', 'Sports and travel', 'Food and beverages', 'Fashion accessories', 'Electronic accessories', 'Electronic accessories', 'Sports and travel', 'Food and beverages', 'Fashion accessories', 'Fashion accessories', 'Fashion accessories', 'Health and beauty', 'Electronic accessories', 'Health and beauty', 'Fashion accessories', 'Food and beverages', 'Home and lifestyle', 'Health and beauty', 'Food and beverages', 'Home and lifestyle', 'Sports and travel', 'Home and lifestyle', 'Home and lifestyle', 'Electronic accessories', 'Health and beauty', 'Sports and travel', 'Health and beauty', 'Food and beverages', 'Sports and travel', 'Food and beverages', 'Fashion accessories', 'Electronic accessories', 'Sports and travel', 'Home and lifestyle', 'Home and lifestyle', 'Fashion accessories', 'Electronic accessories', 'Electronic accessories', 'Electronic accessories', 'Food and beverages', 'Fashion accessories', 'Sports and travel', 'Home and lifestyle', 'Food and beverages', 'Sports and travel', 'Food and beverages', 'Electronic accessories', 'Fashion accessories', 'Sports and travel', 'Health and beauty', 'Electronic accessories', 'Fashion accessories', 'Electronic accessories', 'Electronic accessories', 'Health and beauty', 'Fashion accessories', 'Food and beverages', 'Health and beauty', 'Food and beverages', 'Electronic accessories', 'Home and lifestyle', 'Health and beauty', 'Food and beverages', 'Health and beauty', 'Home and lifestyle', 'Health and beauty', 'Health and beauty', 'Food and beverages', 'Home and lifestyle', 'Food and beverages', 'Electronic accessories', 'Home and lifestyle', 'Fashion accessories', 'Food and beverages', 'Electronic accessories', 'Sports and travel', 'Fashion accessories', 'Home and lifestyle', 'Electronic accessories', 'Home and lifestyle', 'Home and lifestyle', 'Home and lifestyle', 'Sports and travel', 'Sports and travel', 'Electronic accessories', 'Sports and travel', 'Health and beauty', 'Electronic accessories', 'Sports and travel', 'Home and lifestyle', 'Fashion accessories', 'Food and beverages', 'Health and beauty', 'Home and lifestyle', 'Home and lifestyle', 'Health and beauty', 'Sports and travel', 'Health and beauty', 'Food and beverages', 'Food and beverages', 'Fashion accessories', 'Home and lifestyle', 'Health and beauty', 'Health and beauty', 'Electronic accessories', 'Electronic accessories', 'Fashion accessories', 'Home and lifestyle', 'Food and beverages', 'Health and beauty', 'Home and lifestyle', 'Food and beverages', 'Food and beverages', 'Home and lifestyle', 'Fashion accessories', 'Food and beverages', 'Electronic accessories', 'Home and lifestyle', 'Food and beverages', 'Fashion accessories', 'Electronic accessories', 'Fashion accessories', 'Electronic accessories', 'Food and beverages', 'Electronic accessories', 'Home and lifestyle', 'Home and lifestyle', 'Health and beauty', 'Electronic accessories', 'Food and beverages', 'Home and lifestyle', 'Electronic accessories', 'Home and lifestyle', 'Fashion accessories', 'Fashion accessories', 'Food and beverages', 'Food and beverages', 'Electronic accessories', 'Food and beverages', 'Food and beverages', 'Health and beauty', 'Sports and travel', 'Health and beauty', 'Electronic accessories', 'Fashion accessories', 'Health and beauty', 'Health and beauty', 'Electronic accessories', 'Health and beauty', 'Food and beverages', 'Sports and travel', 'Electronic accessories', 'Fashion accessories', 'Electronic accessories', 'Health and beauty', 'Home and lifestyle', 'Food and beverages', 'Home and lifestyle', 'Fashion accessories']}}\n"
     ]
    }
   ],
   "source": [
    "# Print the final dictionary to verify\n",
    "print(final_dict)"
   ]
  },
  {
   "cell_type": "code",
   "execution_count": null,
   "metadata": {},
   "outputs": [],
   "source": []
  },
  {
   "cell_type": "code",
   "execution_count": null,
   "metadata": {},
   "outputs": [],
   "source": []
  },
  {
   "cell_type": "code",
   "execution_count": null,
   "metadata": {},
   "outputs": [],
   "source": []
  }
 ],
 "metadata": {
  "kernelspec": {
   "display_name": "my-virtual-env",
   "language": "python",
   "name": "python3"
  },
  "language_info": {
   "codemirror_mode": {
    "name": "ipython",
    "version": 3
   },
   "file_extension": ".py",
   "mimetype": "text/x-python",
   "name": "python",
   "nbconvert_exporter": "python",
   "pygments_lexer": "ipython3",
   "version": "3.12.4"
  }
 },
 "nbformat": 4,
 "nbformat_minor": 2
}
